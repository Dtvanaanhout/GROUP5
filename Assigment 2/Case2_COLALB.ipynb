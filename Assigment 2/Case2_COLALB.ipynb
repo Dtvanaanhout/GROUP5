{
  "cells": [
    {
      "cell_type": "markdown",
      "metadata": {
        "id": "CWUpd_JJF5KS"
      },
      "source": [
        "# **The Problem & Business Importance**"
      ]
    },
    {
      "cell_type": "markdown",
      "metadata": {
        "id": "KkMSbrg8RYGS"
      },
      "source": [
        "> Problem\n",
        "For sustainable growth, hotels need data-driven insights to predict customer churn and optimize room pricing.\n",
        "\n",
        "Business Importance\n",
        "\n",
        "> Business Importance\n",
        "\n"
      ]
    },
    {
      "cell_type": "markdown",
      "metadata": {
        "id": "y8R-C0ElGMjc"
      },
      "source": [
        "# **Importing Libraries & Reading Files**\n",
        "\n",
        "\n",
        "\n"
      ]
    },
    {
      "cell_type": "code",
      "execution_count": 1,
      "metadata": {
        "id": "ymmgZODfGU_y"
      },
      "outputs": [],
      "source": [
        "import numpy as np\n",
        "import pandas as pd\n",
        "import matplotlib.pyplot as plt\n",
        "import seaborn as sns\n",
        "import requests\n",
        "from datetime import datetime\n",
        "import os\n",
        "\n",
        "from sklearn.model_selection import train_test_split"
      ]
    },
    {
      "cell_type": "code",
      "execution_count": 2,
      "metadata": {
        "id": "7lqIsDKuLK_u"
      },
      "outputs": [],
      "source": [
        "df_host = pd.read_csv('host_data.csv')\n",
        "df_loc = pd.read_csv('location_data.csv')\n",
        "df_pric = pd.read_csv('pricing_data.csv')\n",
        "df_rev = pd.read_csv('review_data.csv')\n",
        "df_prop = pd.read_csv('property_data.csv')\n"
      ]
    },
    {
      "cell_type": "markdown",
      "metadata": {
        "id": "DfxVwJQlF60v"
      },
      "source": [
        "# **Data Identification & Analysis**"
      ]
    },
    {
      "cell_type": "markdown",
      "metadata": {
        "id": "VOO-x3dvOJ9-"
      },
      "source": [
        "\n",
        "> Results of code below shows us interestingly that **'customer_id'** is present in all five datasets.\n",
        "\n",
        "\n"
      ]
    },
    {
      "cell_type": "code",
      "execution_count": 3,
      "metadata": {
        "colab": {
          "base_uri": "https://localhost:8080/"
        },
        "id": "m9qgucrXNu-m",
        "outputId": "a3bb886e-f754-4d83-8df6-00d9e575bed5"
      },
      "outputs": [
        {
          "name": "stdout",
          "output_type": "stream",
          "text": [
            "Index(['customer_id', 'host_since', 'host_response_rate',\n",
            "       'host_has_profile_pic', 'host_identity_verified'],\n",
            "      dtype='object')\n",
            "Index(['customer_id', 'neighbourhood', 'latitude', 'longitude', 'city',\n",
            "       'zipcode'],\n",
            "      dtype='object')\n",
            "Index(['customer_id', 'log_price', 'cleaning_fee', 'cancellation_policy'], dtype='object')\n",
            "Index(['customer_id', 'number_of_reviews', 'review_scores_rating',\n",
            "       'first_review', 'last_review'],\n",
            "      dtype='object')\n",
            "Index(['customer_id', 'property_type', 'room_type', 'bedrooms', 'bathrooms',\n",
            "       'accommodates', 'beds'],\n",
            "      dtype='object')\n"
          ]
        }
      ],
      "source": [
        "print(df_host.columns)\n",
        "print(df_loc.columns)\n",
        "print(df_pric.columns)\n",
        "print(df_rev.columns)\n",
        "print(df_prop.columns)"
      ]
    },
    {
      "cell_type": "markdown",
      "metadata": {
        "id": "iwW6A9hfPf4T"
      },
      "source": [
        "\n",
        "\n",
        "> This makes merging all datasets possible.\n",
        "\n",
        "\n"
      ]
    },
    {
      "cell_type": "code",
      "execution_count": 4,
      "metadata": {
        "id": "Lf7auCyjLPDa"
      },
      "outputs": [],
      "source": [
        "merge1 = pd.merge(df_host , df_loc , on='customer_id')\n",
        "merge2 = pd.merge(merge1 , df_pric , on='customer_id')\n",
        "merge3 = pd.merge(merge2 , df_prop , on='customer_id')\n",
        "df = pd.merge(merge3 , df_rev , on='customer_id' )\n",
        "#For now not merging the df_rev, due to incomplete values of the reviews."
      ]
    },
    {
      "cell_type": "markdown",
      "metadata": {
        "id": "ZY_aos1wQ1fA"
      },
      "source": [
        "\n",
        "\n",
        "> To get a overview and better understanding of data we do the following:\n"
      ]
    },
    {
      "cell_type": "code",
      "execution_count": 5,
      "metadata": {
        "colab": {
          "base_uri": "https://localhost:8080/"
        },
        "id": "BMXKcG1_LY9q",
        "outputId": "ac865721-e781-4593-ff78-97982808a30c"
      },
      "outputs": [
        {
          "name": "stdout",
          "output_type": "stream",
          "text": [
            "<class 'pandas.core.frame.DataFrame'>\n",
            "RangeIndex: 110466 entries, 0 to 110465\n",
            "Data columns (total 23 columns):\n",
            " #   Column                  Non-Null Count   Dtype  \n",
            "---  ------                  --------------   -----  \n",
            " 0   customer_id             110466 non-null  object \n",
            " 1   host_since              110083 non-null  object \n",
            " 2   host_response_rate      83463 non-null   object \n",
            " 3   host_has_profile_pic    110083 non-null  object \n",
            " 4   host_identity_verified  110083 non-null  object \n",
            " 5   neighbourhood           95456 non-null   object \n",
            " 6   latitude                110466 non-null  float64\n",
            " 7   longitude               110466 non-null  float64\n",
            " 8   city                    110466 non-null  object \n",
            " 9   zipcode                 109032 non-null  object \n",
            " 10  log_price               110466 non-null  float64\n",
            " 11  cleaning_fee            110466 non-null  bool   \n",
            " 12  cancellation_policy     110466 non-null  object \n",
            " 13  property_type           110466 non-null  object \n",
            " 14  room_type               110466 non-null  object \n",
            " 15  bedrooms                110293 non-null  float64\n",
            " 16  bathrooms               110134 non-null  float64\n",
            " 17  accommodates            110466 non-null  int64  \n",
            " 18  beds                    110323 non-null  float64\n",
            " 19  number_of_reviews       110466 non-null  int64  \n",
            " 20  review_scores_rating    85013 non-null   float64\n",
            " 21  first_review            86144 non-null   object \n",
            " 22  last_review             86180 non-null   object \n",
            "dtypes: bool(1), float64(7), int64(2), object(13)\n",
            "memory usage: 18.6+ MB\n"
          ]
        }
      ],
      "source": [
        "#Info on all columns of the merged dataset \"df\"\n",
        "df.info()"
      ]
    },
    {
      "cell_type": "code",
      "execution_count": 6,
      "metadata": {
        "colab": {
          "base_uri": "https://localhost:8080/",
          "height": 320
        },
        "id": "SRk79dc1LYv4",
        "outputId": "c0225a43-eb54-4f9a-aaa8-6e28fdf7f7df"
      },
      "outputs": [
        {
          "data": {
            "text/html": [
              "<div>\n",
              "<style scoped>\n",
              "    .dataframe tbody tr th:only-of-type {\n",
              "        vertical-align: middle;\n",
              "    }\n",
              "\n",
              "    .dataframe tbody tr th {\n",
              "        vertical-align: top;\n",
              "    }\n",
              "\n",
              "    .dataframe thead th {\n",
              "        text-align: right;\n",
              "    }\n",
              "</style>\n",
              "<table border=\"1\" class=\"dataframe\">\n",
              "  <thead>\n",
              "    <tr style=\"text-align: right;\">\n",
              "      <th></th>\n",
              "      <th>latitude</th>\n",
              "      <th>longitude</th>\n",
              "      <th>log_price</th>\n",
              "      <th>bedrooms</th>\n",
              "      <th>bathrooms</th>\n",
              "      <th>accommodates</th>\n",
              "      <th>beds</th>\n",
              "      <th>number_of_reviews</th>\n",
              "      <th>review_scores_rating</th>\n",
              "    </tr>\n",
              "  </thead>\n",
              "  <tbody>\n",
              "    <tr>\n",
              "      <th>count</th>\n",
              "      <td>110466.000000</td>\n",
              "      <td>110466.000000</td>\n",
              "      <td>110466.000000</td>\n",
              "      <td>110293.000000</td>\n",
              "      <td>110134.000000</td>\n",
              "      <td>110466.000000</td>\n",
              "      <td>110323.000000</td>\n",
              "      <td>110466.000000</td>\n",
              "      <td>85013.000000</td>\n",
              "    </tr>\n",
              "    <tr>\n",
              "      <th>mean</th>\n",
              "      <td>38.432660</td>\n",
              "      <td>-92.613310</td>\n",
              "      <td>4.645536</td>\n",
              "      <td>1.242445</td>\n",
              "      <td>1.233506</td>\n",
              "      <td>3.148073</td>\n",
              "      <td>1.716415</td>\n",
              "      <td>42.032734</td>\n",
              "      <td>94.026737</td>\n",
              "    </tr>\n",
              "    <tr>\n",
              "      <th>std</th>\n",
              "      <td>3.077177</td>\n",
              "      <td>21.726786</td>\n",
              "      <td>0.786136</td>\n",
              "      <td>0.872118</td>\n",
              "      <td>0.584256</td>\n",
              "      <td>2.184860</td>\n",
              "      <td>1.289476</td>\n",
              "      <td>75.730121</td>\n",
              "      <td>7.879345</td>\n",
              "    </tr>\n",
              "    <tr>\n",
              "      <th>min</th>\n",
              "      <td>33.338905</td>\n",
              "      <td>-122.511500</td>\n",
              "      <td>0.120000</td>\n",
              "      <td>-1.000000</td>\n",
              "      <td>0.000000</td>\n",
              "      <td>1.000000</td>\n",
              "      <td>0.000000</td>\n",
              "      <td>0.000000</td>\n",
              "      <td>20.000000</td>\n",
              "    </tr>\n",
              "    <tr>\n",
              "      <th>25%</th>\n",
              "      <td>34.127201</td>\n",
              "      <td>-118.345061</td>\n",
              "      <td>4.000000</td>\n",
              "      <td>1.000000</td>\n",
              "      <td>1.000000</td>\n",
              "      <td>2.000000</td>\n",
              "      <td>1.000000</td>\n",
              "      <td>2.000000</td>\n",
              "      <td>92.000000</td>\n",
              "    </tr>\n",
              "    <tr>\n",
              "      <th>50%</th>\n",
              "      <td>40.660739</td>\n",
              "      <td>-77.001637</td>\n",
              "      <td>4.715120</td>\n",
              "      <td>1.000000</td>\n",
              "      <td>1.000000</td>\n",
              "      <td>2.000000</td>\n",
              "      <td>1.000000</td>\n",
              "      <td>12.000000</td>\n",
              "      <td>96.000000</td>\n",
              "    </tr>\n",
              "    <tr>\n",
              "      <th>75%</th>\n",
              "      <td>40.746614</td>\n",
              "      <td>-73.954606</td>\n",
              "      <td>5.000000</td>\n",
              "      <td>1.000000</td>\n",
              "      <td>1.000000</td>\n",
              "      <td>4.000000</td>\n",
              "      <td>2.000000</td>\n",
              "      <td>46.000000</td>\n",
              "      <td>100.000000</td>\n",
              "    </tr>\n",
              "    <tr>\n",
              "      <th>max</th>\n",
              "      <td>42.390437</td>\n",
              "      <td>-70.985047</td>\n",
              "      <td>7.718399</td>\n",
              "      <td>10.000000</td>\n",
              "      <td>8.000000</td>\n",
              "      <td>16.000000</td>\n",
              "      <td>18.000000</td>\n",
              "      <td>1210.000000</td>\n",
              "      <td>100.000000</td>\n",
              "    </tr>\n",
              "  </tbody>\n",
              "</table>\n",
              "</div>"
            ],
            "text/plain": [
              "            latitude      longitude      log_price       bedrooms  \\\n",
              "count  110466.000000  110466.000000  110466.000000  110293.000000   \n",
              "mean       38.432660     -92.613310       4.645536       1.242445   \n",
              "std         3.077177      21.726786       0.786136       0.872118   \n",
              "min        33.338905    -122.511500       0.120000      -1.000000   \n",
              "25%        34.127201    -118.345061       4.000000       1.000000   \n",
              "50%        40.660739     -77.001637       4.715120       1.000000   \n",
              "75%        40.746614     -73.954606       5.000000       1.000000   \n",
              "max        42.390437     -70.985047       7.718399      10.000000   \n",
              "\n",
              "           bathrooms   accommodates           beds  number_of_reviews  \\\n",
              "count  110134.000000  110466.000000  110323.000000      110466.000000   \n",
              "mean        1.233506       3.148073       1.716415          42.032734   \n",
              "std         0.584256       2.184860       1.289476          75.730121   \n",
              "min         0.000000       1.000000       0.000000           0.000000   \n",
              "25%         1.000000       2.000000       1.000000           2.000000   \n",
              "50%         1.000000       2.000000       1.000000          12.000000   \n",
              "75%         1.000000       4.000000       2.000000          46.000000   \n",
              "max         8.000000      16.000000      18.000000        1210.000000   \n",
              "\n",
              "       review_scores_rating  \n",
              "count          85013.000000  \n",
              "mean              94.026737  \n",
              "std                7.879345  \n",
              "min               20.000000  \n",
              "25%               92.000000  \n",
              "50%               96.000000  \n",
              "75%              100.000000  \n",
              "max              100.000000  "
            ]
          },
          "execution_count": 6,
          "metadata": {},
          "output_type": "execute_result"
        }
      ],
      "source": [
        "#Summary Statistics for all numerical values.\n",
        "df.describe()\n"
      ]
    },
    {
      "cell_type": "code",
      "execution_count": 7,
      "metadata": {
        "colab": {
          "base_uri": "https://localhost:8080/",
          "height": 343
        },
        "id": "BAVeg2CVLWx3",
        "outputId": "b654ab46-ccf8-4f1c-c339-d354ffc91660"
      },
      "outputs": [
        {
          "data": {
            "text/html": [
              "<div>\n",
              "<style scoped>\n",
              "    .dataframe tbody tr th:only-of-type {\n",
              "        vertical-align: middle;\n",
              "    }\n",
              "\n",
              "    .dataframe tbody tr th {\n",
              "        vertical-align: top;\n",
              "    }\n",
              "\n",
              "    .dataframe thead th {\n",
              "        text-align: right;\n",
              "    }\n",
              "</style>\n",
              "<table border=\"1\" class=\"dataframe\">\n",
              "  <thead>\n",
              "    <tr style=\"text-align: right;\">\n",
              "      <th></th>\n",
              "      <th>customer_id</th>\n",
              "      <th>host_since</th>\n",
              "      <th>host_response_rate</th>\n",
              "      <th>host_has_profile_pic</th>\n",
              "      <th>host_identity_verified</th>\n",
              "      <th>neighbourhood</th>\n",
              "      <th>latitude</th>\n",
              "      <th>longitude</th>\n",
              "      <th>city</th>\n",
              "      <th>zipcode</th>\n",
              "      <th>...</th>\n",
              "      <th>property_type</th>\n",
              "      <th>room_type</th>\n",
              "      <th>bedrooms</th>\n",
              "      <th>bathrooms</th>\n",
              "      <th>accommodates</th>\n",
              "      <th>beds</th>\n",
              "      <th>number_of_reviews</th>\n",
              "      <th>review_scores_rating</th>\n",
              "      <th>first_review</th>\n",
              "      <th>last_review</th>\n",
              "    </tr>\n",
              "  </thead>\n",
              "  <tbody>\n",
              "    <tr>\n",
              "      <th>0</th>\n",
              "      <td>4mUYtiM8BCkYchSi0rELebTJxPM68aZdKyUkER7ol5HI32...</td>\n",
              "      <td>10/07/2013</td>\n",
              "      <td>100%</td>\n",
              "      <td>t</td>\n",
              "      <td>t</td>\n",
              "      <td>Columbia Heights</td>\n",
              "      <td>38.921768</td>\n",
              "      <td>-77.030985</td>\n",
              "      <td>DC</td>\n",
              "      <td>20009</td>\n",
              "      <td>...</td>\n",
              "      <td>house</td>\n",
              "      <td>private room</td>\n",
              "      <td>1.0</td>\n",
              "      <td>1.0</td>\n",
              "      <td>2</td>\n",
              "      <td>1.0</td>\n",
              "      <td>0</td>\n",
              "      <td>NaN</td>\n",
              "      <td>NaN</td>\n",
              "      <td>NaN</td>\n",
              "    </tr>\n",
              "    <tr>\n",
              "      <th>1</th>\n",
              "      <td>XDBcz6zYzSF6AUGPCClRRhP6XjeHOHKCiybvgaevRF6J5Q...</td>\n",
              "      <td>07/10/2014</td>\n",
              "      <td>NaN</td>\n",
              "      <td>t</td>\n",
              "      <td>f</td>\n",
              "      <td>Westlake</td>\n",
              "      <td>34.057546</td>\n",
              "      <td>-118.288971</td>\n",
              "      <td>LA</td>\n",
              "      <td>90005</td>\n",
              "      <td>...</td>\n",
              "      <td>apartment</td>\n",
              "      <td>entire home/apt</td>\n",
              "      <td>0.0</td>\n",
              "      <td>1.0</td>\n",
              "      <td>2</td>\n",
              "      <td>1.0</td>\n",
              "      <td>0</td>\n",
              "      <td>NaN</td>\n",
              "      <td>NaN</td>\n",
              "      <td>NaN</td>\n",
              "    </tr>\n",
              "    <tr>\n",
              "      <th>2</th>\n",
              "      <td>OMm373CPtgtCt3dep7huwYt2G9uGUOPhEG7JkE8ZAvKlMp...</td>\n",
              "      <td>10/26/2016</td>\n",
              "      <td>100%</td>\n",
              "      <td>t</td>\n",
              "      <td>t</td>\n",
              "      <td>East New York</td>\n",
              "      <td>40.661924</td>\n",
              "      <td>-73.867641</td>\n",
              "      <td>NYC</td>\n",
              "      <td>11208.0</td>\n",
              "      <td>...</td>\n",
              "      <td>HOUSE</td>\n",
              "      <td>private room</td>\n",
              "      <td>1.0</td>\n",
              "      <td>1.0</td>\n",
              "      <td>2</td>\n",
              "      <td>1.0</td>\n",
              "      <td>26</td>\n",
              "      <td>91.0</td>\n",
              "      <td>2017-01-01</td>\n",
              "      <td>11/23/2018</td>\n",
              "    </tr>\n",
              "    <tr>\n",
              "      <th>3</th>\n",
              "      <td>OegBpWwCIpG3oc6jLqfYPpBRCCwGrcVh2xQsiUoZXSEtPp...</td>\n",
              "      <td>07/06/2016</td>\n",
              "      <td>NaN</td>\n",
              "      <td>t</td>\n",
              "      <td>t</td>\n",
              "      <td>South Pasadena</td>\n",
              "      <td>34.109652</td>\n",
              "      <td>-118.175605</td>\n",
              "      <td>LA</td>\n",
              "      <td>90042</td>\n",
              "      <td>...</td>\n",
              "      <td>villa</td>\n",
              "      <td>entire home/apt</td>\n",
              "      <td>1.0</td>\n",
              "      <td>1.0</td>\n",
              "      <td>3</td>\n",
              "      <td>1.0</td>\n",
              "      <td>0</td>\n",
              "      <td>NaN</td>\n",
              "      <td>NaN</td>\n",
              "      <td>NaN</td>\n",
              "    </tr>\n",
              "    <tr>\n",
              "      <th>4</th>\n",
              "      <td>837RAwLA6dEkJQHyGasNKdV3nZnunANTprjIo7J8C5wZL6...</td>\n",
              "      <td>10/03/2012</td>\n",
              "      <td>100%</td>\n",
              "      <td>t</td>\n",
              "      <td>f</td>\n",
              "      <td>Upper East Side</td>\n",
              "      <td>40.766836</td>\n",
              "      <td>-73.959440</td>\n",
              "      <td>NYC</td>\n",
              "      <td>10021</td>\n",
              "      <td>...</td>\n",
              "      <td>apartment</td>\n",
              "      <td>entire home/apt</td>\n",
              "      <td>1.0</td>\n",
              "      <td>1.0</td>\n",
              "      <td>2</td>\n",
              "      <td>1.0</td>\n",
              "      <td>64</td>\n",
              "      <td>98.0</td>\n",
              "      <td>2011-08-29</td>\n",
              "      <td>09/28/2018</td>\n",
              "    </tr>\n",
              "  </tbody>\n",
              "</table>\n",
              "<p>5 rows × 23 columns</p>\n",
              "</div>"
            ],
            "text/plain": [
              "                                         customer_id  host_since  \\\n",
              "0  4mUYtiM8BCkYchSi0rELebTJxPM68aZdKyUkER7ol5HI32...  10/07/2013   \n",
              "1  XDBcz6zYzSF6AUGPCClRRhP6XjeHOHKCiybvgaevRF6J5Q...  07/10/2014   \n",
              "2  OMm373CPtgtCt3dep7huwYt2G9uGUOPhEG7JkE8ZAvKlMp...  10/26/2016   \n",
              "3  OegBpWwCIpG3oc6jLqfYPpBRCCwGrcVh2xQsiUoZXSEtPp...  07/06/2016   \n",
              "4  837RAwLA6dEkJQHyGasNKdV3nZnunANTprjIo7J8C5wZL6...  10/03/2012   \n",
              "\n",
              "  host_response_rate host_has_profile_pic host_identity_verified  \\\n",
              "0               100%                    t                      t   \n",
              "1                NaN                    t                      f   \n",
              "2               100%                    t                      t   \n",
              "3                NaN                    t                      t   \n",
              "4               100%                    t                      f   \n",
              "\n",
              "      neighbourhood   latitude   longitude city  zipcode  ...  property_type  \\\n",
              "0  Columbia Heights  38.921768  -77.030985   DC    20009  ...         house    \n",
              "1          Westlake  34.057546 -118.288971   LA    90005  ...     apartment    \n",
              "2     East New York  40.661924  -73.867641  NYC  11208.0  ...         HOUSE    \n",
              "3    South Pasadena  34.109652 -118.175605   LA    90042  ...         villa    \n",
              "4   Upper East Side  40.766836  -73.959440  NYC    10021  ...     apartment    \n",
              "\n",
              "           room_type bedrooms bathrooms accommodates  beds  number_of_reviews  \\\n",
              "0      private room       1.0       1.0            2   1.0                  0   \n",
              "1   entire home/apt       0.0       1.0            2   1.0                  0   \n",
              "2      private room       1.0       1.0            2   1.0                 26   \n",
              "3   entire home/apt       1.0       1.0            3   1.0                  0   \n",
              "4   entire home/apt       1.0       1.0            2   1.0                 64   \n",
              "\n",
              "   review_scores_rating  first_review  last_review  \n",
              "0                   NaN           NaN          NaN  \n",
              "1                   NaN           NaN          NaN  \n",
              "2                  91.0    2017-01-01   11/23/2018  \n",
              "3                   NaN           NaN          NaN  \n",
              "4                  98.0    2011-08-29   09/28/2018  \n",
              "\n",
              "[5 rows x 23 columns]"
            ]
          },
          "execution_count": 7,
          "metadata": {},
          "output_type": "execute_result"
        }
      ],
      "source": [
        "#All values of all columns of first 5 rows\n",
        "df.head()"
      ]
    },
    {
      "cell_type": "code",
      "execution_count": 8,
      "metadata": {
        "colab": {
          "base_uri": "https://localhost:8080/",
          "height": 360
        },
        "id": "0256Y30mLZAY",
        "outputId": "73911d47-234f-4727-e19e-e550e8fd3144"
      },
      "outputs": [
        {
          "data": {
            "text/html": [
              "<div>\n",
              "<style scoped>\n",
              "    .dataframe tbody tr th:only-of-type {\n",
              "        vertical-align: middle;\n",
              "    }\n",
              "\n",
              "    .dataframe tbody tr th {\n",
              "        vertical-align: top;\n",
              "    }\n",
              "\n",
              "    .dataframe thead th {\n",
              "        text-align: right;\n",
              "    }\n",
              "</style>\n",
              "<table border=\"1\" class=\"dataframe\">\n",
              "  <thead>\n",
              "    <tr style=\"text-align: right;\">\n",
              "      <th></th>\n",
              "      <th>customer_id</th>\n",
              "      <th>host_since</th>\n",
              "      <th>host_response_rate</th>\n",
              "      <th>host_has_profile_pic</th>\n",
              "      <th>host_identity_verified</th>\n",
              "      <th>neighbourhood</th>\n",
              "      <th>latitude</th>\n",
              "      <th>longitude</th>\n",
              "      <th>city</th>\n",
              "      <th>zipcode</th>\n",
              "      <th>...</th>\n",
              "      <th>property_type</th>\n",
              "      <th>room_type</th>\n",
              "      <th>bedrooms</th>\n",
              "      <th>bathrooms</th>\n",
              "      <th>accommodates</th>\n",
              "      <th>beds</th>\n",
              "      <th>number_of_reviews</th>\n",
              "      <th>review_scores_rating</th>\n",
              "      <th>first_review</th>\n",
              "      <th>last_review</th>\n",
              "    </tr>\n",
              "  </thead>\n",
              "  <tbody>\n",
              "    <tr>\n",
              "      <th>110461</th>\n",
              "      <td>f2BOUClwcSJFylWFm9ZZbmT33NN5zfrEC9acLFniZftsMG...</td>\n",
              "      <td>11/22/2017</td>\n",
              "      <td>100%</td>\n",
              "      <td>t</td>\n",
              "      <td>t</td>\n",
              "      <td>Carroll Gardens</td>\n",
              "      <td>40.682925</td>\n",
              "      <td>-73.997469</td>\n",
              "      <td>NYC</td>\n",
              "      <td>11231.0</td>\n",
              "      <td>...</td>\n",
              "      <td>townhouse</td>\n",
              "      <td>ENTIRE HOME/APT</td>\n",
              "      <td>5.0</td>\n",
              "      <td>2.5</td>\n",
              "      <td>12</td>\n",
              "      <td>8.0</td>\n",
              "      <td>2</td>\n",
              "      <td>100.0</td>\n",
              "      <td>2017-08-06</td>\n",
              "      <td>10/06/2018</td>\n",
              "    </tr>\n",
              "    <tr>\n",
              "      <th>110462</th>\n",
              "      <td>owkLdHeTXuNky7id8h0OCRjocypRtUlBklyBzCTgt0qc57...</td>\n",
              "      <td>05/30/2016</td>\n",
              "      <td>60%</td>\n",
              "      <td>t</td>\n",
              "      <td>t</td>\n",
              "      <td>NaN</td>\n",
              "      <td>34.205908</td>\n",
              "      <td>-118.572788</td>\n",
              "      <td>LA</td>\n",
              "      <td>91306</td>\n",
              "      <td>...</td>\n",
              "      <td>house</td>\n",
              "      <td>PRIVATE ROOM</td>\n",
              "      <td>1.0</td>\n",
              "      <td>1.5</td>\n",
              "      <td>4</td>\n",
              "      <td>1.0</td>\n",
              "      <td>12</td>\n",
              "      <td>100.0</td>\n",
              "      <td>2015-10-11</td>\n",
              "      <td>03/30/2018</td>\n",
              "    </tr>\n",
              "    <tr>\n",
              "      <th>110463</th>\n",
              "      <td>rjooqKTDjUIHetuaCmvRgqsdCrwny9xJXw0aCMmB4xQUJp...</td>\n",
              "      <td>09/30/2015</td>\n",
              "      <td>97%</td>\n",
              "      <td>t</td>\n",
              "      <td>t</td>\n",
              "      <td>Bushwick</td>\n",
              "      <td>40.689701</td>\n",
              "      <td>-73.906398</td>\n",
              "      <td>NYC</td>\n",
              "      <td>11207</td>\n",
              "      <td>...</td>\n",
              "      <td>NONE</td>\n",
              "      <td>PRIVATE ROOM</td>\n",
              "      <td>1.0</td>\n",
              "      <td>1.0</td>\n",
              "      <td>2</td>\n",
              "      <td>1.0</td>\n",
              "      <td>0</td>\n",
              "      <td>NaN</td>\n",
              "      <td>NaN</td>\n",
              "      <td>NaN</td>\n",
              "    </tr>\n",
              "    <tr>\n",
              "      <th>110464</th>\n",
              "      <td>HuiGLAnSeU06GTAp8IL4DUWz1fAKG9n3aU6K46MdGBssGz...</td>\n",
              "      <td>11/21/2017</td>\n",
              "      <td>100%</td>\n",
              "      <td>t</td>\n",
              "      <td>f</td>\n",
              "      <td>Flatiron District</td>\n",
              "      <td>40.743522</td>\n",
              "      <td>-73.986369</td>\n",
              "      <td>NYC</td>\n",
              "      <td>10016</td>\n",
              "      <td>...</td>\n",
              "      <td>CONDOMINIUM</td>\n",
              "      <td>entire home/apt</td>\n",
              "      <td>2.0</td>\n",
              "      <td>1.0</td>\n",
              "      <td>6</td>\n",
              "      <td>3.0</td>\n",
              "      <td>14</td>\n",
              "      <td>94.0</td>\n",
              "      <td>2017-07-08</td>\n",
              "      <td>10/28/2018</td>\n",
              "    </tr>\n",
              "    <tr>\n",
              "      <th>110465</th>\n",
              "      <td>w7l65QhimlS0j0iOQkHzqXOx7zFWJJ5CHf7s5J7ueFP3Jc...</td>\n",
              "      <td>09/10/2010</td>\n",
              "      <td>88%</td>\n",
              "      <td>t</td>\n",
              "      <td>t</td>\n",
              "      <td>West End</td>\n",
              "      <td>42.364175</td>\n",
              "      <td>-71.063204</td>\n",
              "      <td>Boston</td>\n",
              "      <td>02114</td>\n",
              "      <td>...</td>\n",
              "      <td>apartment</td>\n",
              "      <td>entire home/apt</td>\n",
              "      <td>2.0</td>\n",
              "      <td>2.0</td>\n",
              "      <td>4</td>\n",
              "      <td>2.0</td>\n",
              "      <td>12</td>\n",
              "      <td>92.0</td>\n",
              "      <td>2012-05-29</td>\n",
              "      <td>07/28/2018</td>\n",
              "    </tr>\n",
              "  </tbody>\n",
              "</table>\n",
              "<p>5 rows × 23 columns</p>\n",
              "</div>"
            ],
            "text/plain": [
              "                                              customer_id  host_since  \\\n",
              "110461  f2BOUClwcSJFylWFm9ZZbmT33NN5zfrEC9acLFniZftsMG...  11/22/2017   \n",
              "110462  owkLdHeTXuNky7id8h0OCRjocypRtUlBklyBzCTgt0qc57...  05/30/2016   \n",
              "110463  rjooqKTDjUIHetuaCmvRgqsdCrwny9xJXw0aCMmB4xQUJp...  09/30/2015   \n",
              "110464  HuiGLAnSeU06GTAp8IL4DUWz1fAKG9n3aU6K46MdGBssGz...  11/21/2017   \n",
              "110465  w7l65QhimlS0j0iOQkHzqXOx7zFWJJ5CHf7s5J7ueFP3Jc...  09/10/2010   \n",
              "\n",
              "       host_response_rate host_has_profile_pic host_identity_verified  \\\n",
              "110461               100%                    t                      t   \n",
              "110462                60%                    t                      t   \n",
              "110463                97%                    t                      t   \n",
              "110464               100%                    t                      f   \n",
              "110465                88%                    t                      t   \n",
              "\n",
              "            neighbourhood   latitude   longitude    city  zipcode  ...  \\\n",
              "110461    Carroll Gardens  40.682925  -73.997469     NYC  11231.0  ...   \n",
              "110462                NaN  34.205908 -118.572788      LA    91306  ...   \n",
              "110463           Bushwick  40.689701  -73.906398     NYC    11207  ...   \n",
              "110464  Flatiron District  40.743522  -73.986369     NYC    10016  ...   \n",
              "110465           West End  42.364175  -71.063204  Boston    02114  ...   \n",
              "\n",
              "        property_type          room_type bedrooms bathrooms accommodates  \\\n",
              "110461     townhouse    ENTIRE HOME/APT       5.0       2.5           12   \n",
              "110462         house       PRIVATE ROOM       1.0       1.5            4   \n",
              "110463           NONE      PRIVATE ROOM       1.0       1.0            2   \n",
              "110464   CONDOMINIUM    entire home/apt       2.0       1.0            6   \n",
              "110465     apartment    entire home/apt       2.0       2.0            4   \n",
              "\n",
              "        beds  number_of_reviews  review_scores_rating  first_review  \\\n",
              "110461   8.0                  2                 100.0    2017-08-06   \n",
              "110462   1.0                 12                 100.0    2015-10-11   \n",
              "110463   1.0                  0                   NaN           NaN   \n",
              "110464   3.0                 14                  94.0    2017-07-08   \n",
              "110465   2.0                 12                  92.0    2012-05-29   \n",
              "\n",
              "        last_review  \n",
              "110461   10/06/2018  \n",
              "110462   03/30/2018  \n",
              "110463          NaN  \n",
              "110464   10/28/2018  \n",
              "110465   07/28/2018  \n",
              "\n",
              "[5 rows x 23 columns]"
            ]
          },
          "execution_count": 8,
          "metadata": {},
          "output_type": "execute_result"
        }
      ],
      "source": [
        "#All values of all columns of last 5 rows\n",
        "df.tail()"
      ]
    },
    {
      "cell_type": "markdown",
      "metadata": {
        "id": "f-dH7L26K18h"
      },
      "source": [
        "#Change the date"
      ]
    },
    {
      "cell_type": "code",
      "execution_count": 9,
      "metadata": {
        "id": "D3eqBsldK1YA"
      },
      "outputs": [],
      "source": [
        "df['host_since'] = pd.to_datetime(df['host_since'])\n",
        "df['first_review'] = pd.to_datetime(df['first_review'])\n",
        "df['last_review'] = pd.to_datetime(df['last_review'])\n"
      ]
    },
    {
      "cell_type": "markdown",
      "metadata": {
        "id": "W48wLuZlaeQU"
      },
      "source": [
        "# **Data Preparing, Cleaning and Visualization**\n"
      ]
    },
    {
      "cell_type": "code",
      "execution_count": 10,
      "metadata": {
        "colab": {
          "base_uri": "https://localhost:8080/",
          "height": 805
        },
        "id": "E13iusNfLlUo",
        "outputId": "f06ddb3c-1bb7-4c94-dd36-e1367042afce"
      },
      "outputs": [
        {
          "data": {
            "text/plain": [
              "customer_id                   0\n",
              "host_since                  383\n",
              "host_response_rate        27003\n",
              "host_has_profile_pic        383\n",
              "host_identity_verified      383\n",
              "neighbourhood             15010\n",
              "latitude                      0\n",
              "longitude                     0\n",
              "city                          0\n",
              "zipcode                    1434\n",
              "log_price                     0\n",
              "cleaning_fee                  0\n",
              "cancellation_policy           0\n",
              "property_type                 0\n",
              "room_type                     0\n",
              "bedrooms                    173\n",
              "bathrooms                   332\n",
              "accommodates                  0\n",
              "beds                        143\n",
              "number_of_reviews             0\n",
              "review_scores_rating      25453\n",
              "first_review              24322\n",
              "last_review               24286\n",
              "dtype: int64"
            ]
          },
          "execution_count": 10,
          "metadata": {},
          "output_type": "execute_result"
        }
      ],
      "source": [
        "df.isna().sum()"
      ]
    },
    {
      "cell_type": "code",
      "execution_count": 11,
      "metadata": {
        "id": "letU4OguWY1Y"
      },
      "outputs": [],
      "source": [
        "#Change customerid to int\n",
        "df['customer_id'] = pd.factorize(df['customer_id'])[0] + 1\n",
        "\n",
        "#host_response_rate to int\n",
        "df['host_response_rate'] = pd.to_numeric(df['host_response_rate'].str.rstrip('%'))\n",
        "\n",
        "#Change host_since to a numeric value ( we calculate the duration)\n",
        "df['host_since'] = ((pd.to_datetime(datetime.now()) - df['host_since']).dt.days) / 365\n",
        "\n",
        "#Change t/f to True and False\n",
        "df['host_has_profile_pic'] = df['host_has_profile_pic'].map({'t': True, 'f': False})\n",
        "df['host_identity_verified'] = df['host_identity_verified'].map({'t': True, 'f': False})\n",
        "\n",
        "#Capatalize values in room_type and property_type to have a uniform standard between values\n",
        "df['room_type'] = df['room_type'].str.upper()\n",
        "df['property_type'] = df['property_type'].str.upper()\n"
      ]
    },
    {
      "cell_type": "code",
      "execution_count": 12,
      "metadata": {
        "colab": {
          "base_uri": "https://localhost:8080/",
          "height": 443
        },
        "id": "jwVa0Yp3J0fD",
        "outputId": "7319dbce-d598-42b4-d430-1615c974c4d9"
      },
      "outputs": [
        {
          "name": "stdout",
          "output_type": "stream",
          "text": [
            "1434\n",
            "<Response [403]>\n"
          ]
        },
        {
          "ename": "JSONDecodeError",
          "evalue": "Expecting value: line 1 column 1 (char 0)",
          "output_type": "error",
          "traceback": [
            "\u001b[1;31m---------------------------------------------------------------------------\u001b[0m",
            "\u001b[1;31mJSONDecodeError\u001b[0m                           Traceback (most recent call last)",
            "File \u001b[1;32mc:\\Users\\dvana\\AppData\\Local\\Programs\\Python\\Python312\\Lib\\site-packages\\requests\\models.py:974\u001b[0m, in \u001b[0;36mResponse.json\u001b[1;34m(self, **kwargs)\u001b[0m\n\u001b[0;32m    973\u001b[0m \u001b[38;5;28;01mtry\u001b[39;00m:\n\u001b[1;32m--> 974\u001b[0m     \u001b[38;5;28;01mreturn\u001b[39;00m \u001b[43mcomplexjson\u001b[49m\u001b[38;5;241;43m.\u001b[39;49m\u001b[43mloads\u001b[49m\u001b[43m(\u001b[49m\u001b[38;5;28;43mself\u001b[39;49m\u001b[38;5;241;43m.\u001b[39;49m\u001b[43mtext\u001b[49m\u001b[43m,\u001b[49m\u001b[43m \u001b[49m\u001b[38;5;241;43m*\u001b[39;49m\u001b[38;5;241;43m*\u001b[39;49m\u001b[43mkwargs\u001b[49m\u001b[43m)\u001b[49m\n\u001b[0;32m    975\u001b[0m \u001b[38;5;28;01mexcept\u001b[39;00m JSONDecodeError \u001b[38;5;28;01mas\u001b[39;00m e:\n\u001b[0;32m    976\u001b[0m     \u001b[38;5;66;03m# Catch JSON-related errors and raise as requests.JSONDecodeError\u001b[39;00m\n\u001b[0;32m    977\u001b[0m     \u001b[38;5;66;03m# This aliases json.JSONDecodeError and simplejson.JSONDecodeError\u001b[39;00m\n",
            "File \u001b[1;32mc:\\Users\\dvana\\AppData\\Local\\Programs\\Python\\Python312\\Lib\\json\\__init__.py:346\u001b[0m, in \u001b[0;36mloads\u001b[1;34m(s, cls, object_hook, parse_float, parse_int, parse_constant, object_pairs_hook, **kw)\u001b[0m\n\u001b[0;32m    343\u001b[0m \u001b[38;5;28;01mif\u001b[39;00m (\u001b[38;5;28mcls\u001b[39m \u001b[38;5;129;01mis\u001b[39;00m \u001b[38;5;28;01mNone\u001b[39;00m \u001b[38;5;129;01mand\u001b[39;00m object_hook \u001b[38;5;129;01mis\u001b[39;00m \u001b[38;5;28;01mNone\u001b[39;00m \u001b[38;5;129;01mand\u001b[39;00m\n\u001b[0;32m    344\u001b[0m         parse_int \u001b[38;5;129;01mis\u001b[39;00m \u001b[38;5;28;01mNone\u001b[39;00m \u001b[38;5;129;01mand\u001b[39;00m parse_float \u001b[38;5;129;01mis\u001b[39;00m \u001b[38;5;28;01mNone\u001b[39;00m \u001b[38;5;129;01mand\u001b[39;00m\n\u001b[0;32m    345\u001b[0m         parse_constant \u001b[38;5;129;01mis\u001b[39;00m \u001b[38;5;28;01mNone\u001b[39;00m \u001b[38;5;129;01mand\u001b[39;00m object_pairs_hook \u001b[38;5;129;01mis\u001b[39;00m \u001b[38;5;28;01mNone\u001b[39;00m \u001b[38;5;129;01mand\u001b[39;00m \u001b[38;5;129;01mnot\u001b[39;00m kw):\n\u001b[1;32m--> 346\u001b[0m     \u001b[38;5;28;01mreturn\u001b[39;00m \u001b[43m_default_decoder\u001b[49m\u001b[38;5;241;43m.\u001b[39;49m\u001b[43mdecode\u001b[49m\u001b[43m(\u001b[49m\u001b[43ms\u001b[49m\u001b[43m)\u001b[49m\n\u001b[0;32m    347\u001b[0m \u001b[38;5;28;01mif\u001b[39;00m \u001b[38;5;28mcls\u001b[39m \u001b[38;5;129;01mis\u001b[39;00m \u001b[38;5;28;01mNone\u001b[39;00m:\n",
            "File \u001b[1;32mc:\\Users\\dvana\\AppData\\Local\\Programs\\Python\\Python312\\Lib\\json\\decoder.py:337\u001b[0m, in \u001b[0;36mJSONDecoder.decode\u001b[1;34m(self, s, _w)\u001b[0m\n\u001b[0;32m    333\u001b[0m \u001b[38;5;250m\u001b[39m\u001b[38;5;124;03m\"\"\"Return the Python representation of ``s`` (a ``str`` instance\u001b[39;00m\n\u001b[0;32m    334\u001b[0m \u001b[38;5;124;03mcontaining a JSON document).\u001b[39;00m\n\u001b[0;32m    335\u001b[0m \n\u001b[0;32m    336\u001b[0m \u001b[38;5;124;03m\"\"\"\u001b[39;00m\n\u001b[1;32m--> 337\u001b[0m obj, end \u001b[38;5;241m=\u001b[39m \u001b[38;5;28;43mself\u001b[39;49m\u001b[38;5;241;43m.\u001b[39;49m\u001b[43mraw_decode\u001b[49m\u001b[43m(\u001b[49m\u001b[43ms\u001b[49m\u001b[43m,\u001b[49m\u001b[43m \u001b[49m\u001b[43midx\u001b[49m\u001b[38;5;241;43m=\u001b[39;49m\u001b[43m_w\u001b[49m\u001b[43m(\u001b[49m\u001b[43ms\u001b[49m\u001b[43m,\u001b[49m\u001b[43m \u001b[49m\u001b[38;5;241;43m0\u001b[39;49m\u001b[43m)\u001b[49m\u001b[38;5;241;43m.\u001b[39;49m\u001b[43mend\u001b[49m\u001b[43m(\u001b[49m\u001b[43m)\u001b[49m\u001b[43m)\u001b[49m\n\u001b[0;32m    338\u001b[0m end \u001b[38;5;241m=\u001b[39m _w(s, end)\u001b[38;5;241m.\u001b[39mend()\n",
            "File \u001b[1;32mc:\\Users\\dvana\\AppData\\Local\\Programs\\Python\\Python312\\Lib\\json\\decoder.py:355\u001b[0m, in \u001b[0;36mJSONDecoder.raw_decode\u001b[1;34m(self, s, idx)\u001b[0m\n\u001b[0;32m    354\u001b[0m \u001b[38;5;28;01mexcept\u001b[39;00m \u001b[38;5;167;01mStopIteration\u001b[39;00m \u001b[38;5;28;01mas\u001b[39;00m err:\n\u001b[1;32m--> 355\u001b[0m     \u001b[38;5;28;01mraise\u001b[39;00m JSONDecodeError(\u001b[38;5;124m\"\u001b[39m\u001b[38;5;124mExpecting value\u001b[39m\u001b[38;5;124m\"\u001b[39m, s, err\u001b[38;5;241m.\u001b[39mvalue) \u001b[38;5;28;01mfrom\u001b[39;00m \u001b[38;5;28;01mNone\u001b[39;00m\n\u001b[0;32m    356\u001b[0m \u001b[38;5;28;01mreturn\u001b[39;00m obj, end\n",
            "\u001b[1;31mJSONDecodeError\u001b[0m: Expecting value: line 1 column 1 (char 0)",
            "\nDuring handling of the above exception, another exception occurred:\n",
            "\u001b[1;31mJSONDecodeError\u001b[0m                           Traceback (most recent call last)",
            "Cell \u001b[1;32mIn[12], line 12\u001b[0m\n\u001b[0;32m     10\u001b[0m response \u001b[38;5;241m=\u001b[39m requests\u001b[38;5;241m.\u001b[39mget(url)\n\u001b[0;32m     11\u001b[0m \u001b[38;5;28mprint\u001b[39m(response)\n\u001b[1;32m---> 12\u001b[0m data \u001b[38;5;241m=\u001b[39m \u001b[43mresponse\u001b[49m\u001b[38;5;241;43m.\u001b[39;49m\u001b[43mjson\u001b[49m\u001b[43m(\u001b[49m\u001b[43m)\u001b[49m\n\u001b[0;32m     13\u001b[0m df\u001b[38;5;241m.\u001b[39mloc[i, \u001b[38;5;124m'\u001b[39m\u001b[38;5;124mzipcode\u001b[39m\u001b[38;5;124m'\u001b[39m] \u001b[38;5;241m=\u001b[39m data[\u001b[38;5;124m'\u001b[39m\u001b[38;5;124maddress\u001b[39m\u001b[38;5;124m'\u001b[39m][\u001b[38;5;124m'\u001b[39m\u001b[38;5;124mzipcode\u001b[39m\u001b[38;5;124m'\u001b[39m]\n\u001b[0;32m     16\u001b[0m missing_values_nb \u001b[38;5;241m=\u001b[39m df[df[\u001b[38;5;124m'\u001b[39m\u001b[38;5;124mneighbourhood\u001b[39m\u001b[38;5;124m'\u001b[39m]\u001b[38;5;241m.\u001b[39misna()]\u001b[38;5;241m.\u001b[39mindex\n",
            "File \u001b[1;32mc:\\Users\\dvana\\AppData\\Local\\Programs\\Python\\Python312\\Lib\\site-packages\\requests\\models.py:978\u001b[0m, in \u001b[0;36mResponse.json\u001b[1;34m(self, **kwargs)\u001b[0m\n\u001b[0;32m    974\u001b[0m     \u001b[38;5;28;01mreturn\u001b[39;00m complexjson\u001b[38;5;241m.\u001b[39mloads(\u001b[38;5;28mself\u001b[39m\u001b[38;5;241m.\u001b[39mtext, \u001b[38;5;241m*\u001b[39m\u001b[38;5;241m*\u001b[39mkwargs)\n\u001b[0;32m    975\u001b[0m \u001b[38;5;28;01mexcept\u001b[39;00m JSONDecodeError \u001b[38;5;28;01mas\u001b[39;00m e:\n\u001b[0;32m    976\u001b[0m     \u001b[38;5;66;03m# Catch JSON-related errors and raise as requests.JSONDecodeError\u001b[39;00m\n\u001b[0;32m    977\u001b[0m     \u001b[38;5;66;03m# This aliases json.JSONDecodeError and simplejson.JSONDecodeError\u001b[39;00m\n\u001b[1;32m--> 978\u001b[0m     \u001b[38;5;28;01mraise\u001b[39;00m RequestsJSONDecodeError(e\u001b[38;5;241m.\u001b[39mmsg, e\u001b[38;5;241m.\u001b[39mdoc, e\u001b[38;5;241m.\u001b[39mpos)\n",
            "\u001b[1;31mJSONDecodeError\u001b[0m: Expecting value: line 1 column 1 (char 0)"
          ]
        }
      ],
      "source": [
        "csv_file_path = 'data_FILLED_ZIPCODE_NEIGHBORS.csv'\n",
        "if os.path.exists(csv_file_path):\n",
        "    df = pd.read_csv(csv_file_path)\n",
        "else:\n",
        "    missing_values = df[df['zipcode'].isna()].index\n",
        "    print(len(missing_values))\n",
        "    for i in missing_values:\n",
        "      row_data = df.loc[i]\n",
        "      url = f\"https://nominatim.openstreetmap.org/reverse?format=json&lat={row_data['latitude']}&lon={row_data['longitude']}\"\n",
        "      response = requests.get(url)\n",
        "      print(response)\n",
        "      data = response.json()\n",
        "      df.loc[i, 'zipcode'] = data['address']['zipcode']\n",
        "\n",
        "\n",
        "      missing_values_nb = df[df['neighbourhood'].isna()].index\n",
        "      x = 0\n",
        "      for i in missing_values_nb:\n",
        "        print(f'{x} / {len(missing_values_nb)}')\n",
        "        x += 1\n",
        "        row_data = df.loc[i]\n",
        "        url = f\"https://nominatim.openstreetmap.org/reverse?format=json&lat={row_data['latitude']}&lon={row_data['longitude']}\"\n",
        "        response = requests.get(url)\n",
        "        data = response.json()\n",
        "        try:\n",
        "          df.loc[i, 'neighbourhood'] = data['address']['neighbourhood']\n",
        "        except:\n",
        "          df.loc[i, 'neighbourhood'] = 'NO DATA AVAILABLE'\n",
        "\n",
        "df.to_csv(csv_file_path, index=False)"
      ]
    },
    {
      "cell_type": "code",
      "execution_count": null,
      "metadata": {
        "id": "Vi5-8PI2G3al"
      },
      "outputs": [],
      "source": [
        "df.isna().sum()"
      ]
    },
    {
      "cell_type": "code",
      "execution_count": null,
      "metadata": {
        "id": "XI76eSV7jhK-"
      },
      "outputs": [],
      "source": [
        "missing_values = df[(df['zipcode'].isna()) & (df['neighbourhood'].isna())]\n",
        "missing_values"
      ]
    },
    {
      "cell_type": "markdown",
      "metadata": {
        "id": "h7hgQHe2J5Dz"
      },
      "source": [
        "# Creating Dummies"
      ]
    },
    {
      "cell_type": "code",
      "execution_count": null,
      "metadata": {
        "id": "-wGOTn7uRXVu"
      },
      "outputs": [],
      "source": [
        "catgorical_columns = ['neighbourhood', 'city', 'cancellation_policy', 'property_type', 'room_type']\n",
        "df_w_dummies = pd.get_dummies(df.drop(['customer_id','zipcode','latitude','longitude'], axis=1), columns=catgorical_columns, drop_first=True)\n",
        "df_w_dummies.head()"
      ]
    },
    {
      "cell_type": "code",
      "execution_count": null,
      "metadata": {
        "id": "tVaERgGDJgkC"
      },
      "outputs": [],
      "source": [
        "numeric_columns = ['host_since','host_response_rate','bedrooms', 'bathrooms','beds']\n"
      ]
    },
    {
      "cell_type": "code",
      "execution_count": null,
      "metadata": {
        "id": "0NduLgk5OcUB"
      },
      "outputs": [],
      "source": [
        "for col in df_w_dummies.columns:\n",
        "    df_w_dummies[col] = pd.to_numeric(df_w_dummies[col], errors='coerce')\n"
      ]
    },
    {
      "cell_type": "markdown",
      "metadata": {
        "id": "HvHznSoJuirP"
      },
      "source": [
        "To Do - Adnane\n",
        "* clean value names seen in graphs below."
      ]
    },
    {
      "cell_type": "code",
      "execution_count": null,
      "metadata": {
        "collapsed": true,
        "id": "cTjE7JOLmD5_"
      },
      "outputs": [],
      "source": [
        "# 1. Distribution of `log_price`\n",
        "plt.figure(figsize=(10, 6))\n",
        "sns.histplot(df['log_price'], bins=30, kde=True, color='blue', edgecolor='black')\n",
        "plt.title('Distribution of Log Price', fontsize=16)\n",
        "plt.xlabel('Log Price', fontsize=14)\n",
        "plt.ylabel('Frequency', fontsize=14)\n",
        "plt.grid(axis='y', linestyle='--', alpha=0.7)\n",
        "plt.show()\n",
        "\n",
        "# 2. Countplot for `room_type`\n",
        "plt.figure(figsize=(10, 6))\n",
        "sns.countplot(data=df, x='room_type', palette='viridis')\n",
        "plt.title('Room Type Distribution', fontsize=16)\n",
        "plt.xlabel('Room Type', fontsize=14)\n",
        "plt.ylabel('Count', fontsize=14)\n",
        "plt.show()\n",
        "\n",
        "# 3. Countplot for `property_type` (top 10 most common types)\n",
        "plt.figure(figsize=(12, 6))\n",
        "top_property_types = df['property_type'].value_counts().nlargest(10).index\n",
        "sns.countplot(data=df[df['property_type'].isin(top_property_types)], y='property_type', palette='coolwarm', order=top_property_types)\n",
        "plt.title('Top 10 Property Types', fontsize=16)\n",
        "plt.xlabel('Count', fontsize=14)\n",
        "plt.ylabel('Property Type', fontsize=14)\n",
        "plt.show()\n",
        "\n",
        "# 4. Boxplot for `accommodates` vs `log_price`\n",
        "plt.figure(figsize=(10, 6))\n",
        "sns.boxplot(data=df, x='accommodates', y='log_price', palette='Spectral')\n",
        "plt.title('Log Price vs Accommodates', fontsize=16)\n",
        "plt.xlabel('Accommodates', fontsize=14)\n",
        "plt.ylabel('Log Price', fontsize=14)\n",
        "plt.show()\n",
        "\n",
        "# 5. Countplot for `cancellation_policy`\n",
        "plt.figure(figsize=(10, 6))\n",
        "sns.countplot(data=df, x='cancellation_policy', palette='magma')\n",
        "plt.title('Cancellation Policy Distribution', fontsize=16)\n",
        "plt.xlabel('Cancellation Policy', fontsize=14)\n",
        "plt.ylabel('Count', fontsize=14)\n",
        "plt.show()\n",
        "\n",
        "# 6. Scatterplot for `latitude` and `longitude` colored by `log_price`\n",
        "plt.figure(figsize=(10, 6))\n",
        "sns.scatterplot(data=df, x='longitude', y='latitude', hue='log_price', palette='viridis', alpha=0.6)\n",
        "plt.title('Location of Listings (Colored by Log Price)', fontsize=16)\n",
        "plt.xlabel('Longitude', fontsize=14)\n",
        "plt.ylabel('Latitude', fontsize=14)\n",
        "plt.legend(title='Log Price')\n",
        "plt.show()\n",
        "\n",
        "# 7. Barplot for `host_response_rate` (if numeric)\n",
        "if df['host_response_rate'].dtype != object:\n",
        "    plt.figure(figsize=(10, 6))\n",
        "    sns.histplot(df['host_response_rate'], kde=True, color='orange', edgecolor='black')\n",
        "    plt.title('Host Response Rate Distribution', fontsize=16)\n",
        "    plt.xlabel('Host Response Rate (%)', fontsize=14)\n",
        "    plt.ylabel('Frequency', fontsize=14)\n",
        "    plt.show()\n",
        "\n",
        "# 8. Boxplot for `bedrooms` vs `log_price`\n",
        "plt.figure(figsize=(10, 6))\n",
        "sns.boxplot(data=df, x='bedrooms', y='log_price', palette='cool')\n",
        "plt.title('Log Price vs Bedrooms', fontsize=16)\n",
        "plt.xlabel('Bedrooms', fontsize=14)\n",
        "plt.ylabel('Log Price', fontsize=14)\n",
        "plt.show()\n",
        "\n",
        "# 9. Boxplot for `bathrooms` vs `log_price`\n",
        "plt.figure(figsize=(10, 6))\n",
        "sns.boxplot(data=df, x='bathrooms', y='log_price', palette='viridis')\n",
        "plt.title('Log Price vs Bathrooms', fontsize=16)\n",
        "plt.xlabel('Bathrooms', fontsize=14)\n",
        "plt.ylabel('Log Price', fontsize=14)\n",
        "plt.show()\n",
        "\n",
        "# 10. Boxplot for `beds` vs `log_price`\n",
        "plt.figure(figsize=(10, 6))\n",
        "sns.boxplot(data=df, x='beds', y='log_price', palette='plasma')\n",
        "plt.title('Log Price vs Beds', fontsize=16)\n",
        "plt.xlabel('Beds', fontsize=14)\n",
        "plt.ylabel('Log Price', fontsize=14)\n",
        "plt.show()\n",
        "\n",
        "# 11. Countplot for `city`\n",
        "plt.figure(figsize=(10, 6))\n",
        "sns.countplot(data=df, x='city', palette='tab10', order=df['city'].value_counts().index)\n",
        "plt.title('City Distribution', fontsize=16)\n",
        "plt.xlabel('City', fontsize=14)\n",
        "plt.ylabel('Count', fontsize=14)\n",
        "plt.xticks(rotation=45)\n",
        "plt.show()\n",
        "\n",
        "# 12. Barplot for `neighbourhood` (Top 10 most common)\n",
        "plt.figure(figsize=(12, 6))\n",
        "top_neighbourhoods = df['neighbourhood'].value_counts().nlargest(10).index\n",
        "sns.barplot(data=df[df['neighbourhood'].isin(top_neighbourhoods)],\n",
        "            x='neighbourhood', y='log_price', estimator='mean', palette='Spectral', ci=None)\n",
        "plt.title('Average Log Price by Top 10 Neighbourhoods', fontsize=16)\n",
        "plt.xlabel('Neighbourhood', fontsize=14)\n",
        "plt.ylabel('Average Log Price', fontsize=14)\n",
        "plt.xticks(rotation=45)\n",
        "plt.show()\n",
        "\n",
        "# 13. Barplot for `cleaning_fee` vs `log_price`\n",
        "plt.figure(figsize=(10, 6))\n",
        "sns.barplot(data=df, x='cleaning_fee', y='log_price', palette='viridis', ci=None)\n",
        "plt.title('Average Log Price by Cleaning Fee Presence', fontsize=16)\n",
        "plt.xlabel('Cleaning Fee (True/False)', fontsize=14)\n",
        "plt.ylabel('Average Log Price', fontsize=14)\n",
        "plt.show()\n",
        "\n",
        "# 14. Barplot for `host_identity_verified` vs `log_price`\n",
        "plt.figure(figsize=(10, 6))\n",
        "sns.barplot(data=df, x='host_identity_verified', y='log_price', palette='coolwarm', ci=None)\n",
        "plt.title('Average Log Price by Host Identity Verification', fontsize=16)\n",
        "plt.xlabel('Host Identity Verified (True/False)', fontsize=14)\n",
        "plt.ylabel('Average Log Price', fontsize=14)\n",
        "plt.show()\n",
        "\n",
        "# 15. Barplot for `host_has_profile_pic` vs `log_price`\n",
        "plt.figure(figsize=(10, 6))\n",
        "sns.barplot(data=df, x='host_has_profile_pic', y='log_price', palette='Set2', ci=None)\n",
        "plt.title('Average Log Price by Host Profile Picture Presence', fontsize=16)\n",
        "plt.xlabel('Host Has Profile Picture (True/False)', fontsize=14)\n",
        "plt.ylabel('Average Log Price', fontsize=14)\n",
        "plt.show()\n",
        "\n",
        "\n"
      ]
    }
  ],
  "metadata": {
    "colab": {
      "provenance": []
    },
    "kernelspec": {
      "display_name": "Python 3",
      "name": "python3"
    },
    "language_info": {
      "codemirror_mode": {
        "name": "ipython",
        "version": 3
      },
      "file_extension": ".py",
      "mimetype": "text/x-python",
      "name": "python",
      "nbconvert_exporter": "python",
      "pygments_lexer": "ipython3",
      "version": "3.12.6"
    }
  },
  "nbformat": 4,
  "nbformat_minor": 0
}
