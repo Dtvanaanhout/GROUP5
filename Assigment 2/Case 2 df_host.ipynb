{
 "cells": [
  {
   "cell_type": "code",
   "execution_count": 2,
   "id": "aa50a828-d13e-4377-badb-c04e3b5b93ac",
   "metadata": {},
   "outputs": [],
   "source": [
    "import numpy as np\n",
    "import pandas as pd\n",
    "import matplotlib.pyplot as plt\n",
    "import seaborn as sns\n",
    "from datetime import datetime\n",
    "import os\n",
    "\n",
    "from sklearn.model_selection import train_test_split\n",
    "from sklearn.ensemble import RandomForestRegressor"
   ]
  },
  {
   "cell_type": "code",
   "execution_count": 4,
   "id": "8026ac1a-e396-4129-8f0c-1ab7fbd3ed72",
   "metadata": {},
   "outputs": [
    {
     "name": "stdout",
     "output_type": "stream",
     "text": [
      "Index(['customer_id', 'host_since', 'host_response_rate',\n",
      "       'host_has_profile_pic', 'host_identity_verified'],\n",
      "      dtype='object')\n"
     ]
    }
   ],
   "source": [
    "df_host = pd.read_csv('host_data.csv')\n",
    "print(df_host.columns)\n",
    "\n",
    "df_loc = pd.read_csv('location_data.csv')\n",
    "\n",
    "df_pric = pd.read_csv('pricing_data.csv')\n",
    "\n",
    "df_prop = pd.read_csv('property_data.csv')\n",
    "\n",
    "df_rev = pd.read_csv('review_data.csv')"
   ]
  },
  {
   "cell_type": "code",
   "execution_count": 10,
   "id": "1d10b5eb-112c-456c-9b4e-c2d84b711143",
   "metadata": {},
   "outputs": [],
   "source": [
    "# Merge df_host and df_loc\n",
    "merge1 = pd.merge(df_host, df_loc, on='customer_id')\n",
    "\n",
    "# Merge the result with df_pric\n",
    "merge2 = pd.merge(merge1, df_pric, on='customer_id')\n",
    "\n",
    "# Merge the result with df_prop\n",
    "merge3 = pd.merge(merge2, df_prop, on='customer_id')\n",
    "\n",
    "# Merge the result with df_rev\n",
    "df_merged = pd.merge(merge3, df_rev, on='customer_id', how='right')  # Use 'right' join as originally intended"
   ]
  },
  {
   "cell_type": "code",
   "execution_count": 12,
   "id": "e1275c6e-175f-49e9-952e-e8134afbad34",
   "metadata": {},
   "outputs": [
    {
     "name": "stdout",
     "output_type": "stream",
     "text": [
      "<class 'pandas.core.frame.DataFrame'>\n",
      "RangeIndex: 110466 entries, 0 to 110465\n",
      "Data columns (total 23 columns):\n",
      " #   Column                  Non-Null Count   Dtype  \n",
      "---  ------                  --------------   -----  \n",
      " 0   customer_id             110466 non-null  object \n",
      " 1   host_since              110083 non-null  object \n",
      " 2   host_response_rate      83463 non-null   object \n",
      " 3   host_has_profile_pic    110083 non-null  object \n",
      " 4   host_identity_verified  110083 non-null  object \n",
      " 5   neighbourhood           95456 non-null   object \n",
      " 6   latitude                110466 non-null  float64\n",
      " 7   longitude               110466 non-null  float64\n",
      " 8   city                    110466 non-null  object \n",
      " 9   zipcode                 109032 non-null  object \n",
      " 10  log_price               110466 non-null  float64\n",
      " 11  cleaning_fee            110466 non-null  bool   \n",
      " 12  cancellation_policy     110466 non-null  object \n",
      " 13  property_type           110466 non-null  object \n",
      " 14  room_type               110466 non-null  object \n",
      " 15  bedrooms                110293 non-null  float64\n",
      " 16  bathrooms               110134 non-null  float64\n",
      " 17  accommodates            110466 non-null  int64  \n",
      " 18  beds                    110323 non-null  float64\n",
      " 19  number_of_reviews       110466 non-null  int64  \n",
      " 20  review_scores_rating    85013 non-null   float64\n",
      " 21  first_review            86144 non-null   object \n",
      " 22  last_review             86180 non-null   object \n",
      "dtypes: bool(1), float64(7), int64(2), object(13)\n",
      "memory usage: 18.6+ MB\n"
     ]
    }
   ],
   "source": [
    "#Info on all columns of the merged dataset\n",
    "df_merged.info()"
   ]
  },
  {
   "cell_type": "code",
   "execution_count": null,
   "id": "97784a59-8b1c-421a-b8bb-1cb1dfd3f320",
   "metadata": {},
   "outputs": [],
   "source": []
  },
  {
   "cell_type": "code",
   "execution_count": null,
   "id": "c9172384-5d31-4cd7-bf3d-7f2fe6beb352",
   "metadata": {},
   "outputs": [],
   "source": []
  },
  {
   "cell_type": "code",
   "execution_count": null,
   "id": "2f3d1905-783a-4064-b314-fd7cd4e0f478",
   "metadata": {},
   "outputs": [],
   "source": []
  },
  {
   "cell_type": "code",
   "execution_count": null,
   "id": "8282d264-ebde-4fac-b94b-065d07408902",
   "metadata": {},
   "outputs": [],
   "source": [
    "CUSTOMER ID"
   ]
  },
  {
   "cell_type": "code",
   "execution_count": null,
   "id": "bea95769-6cd4-40cf-b2d6-c07c9b0f5192",
   "metadata": {},
   "outputs": [],
   "source": []
  },
  {
   "cell_type": "code",
   "execution_count": 14,
   "id": "00ce1719-74d8-4736-885e-a21f100ab772",
   "metadata": {},
   "outputs": [
    {
     "data": {
      "text/plain": [
       "Index(['customer_id', 'host_since', 'host_response_rate',\n",
       "       'host_has_profile_pic', 'host_identity_verified'],\n",
       "      dtype='object')"
      ]
     },
     "execution_count": 14,
     "metadata": {},
     "output_type": "execute_result"
    }
   ],
   "source": [
    "df_host.columns"
   ]
  },
  {
   "cell_type": "code",
   "execution_count": 16,
   "id": "e63cfcd7-21b0-48f1-af1d-de252d48d191",
   "metadata": {},
   "outputs": [
    {
     "name": "stdout",
     "output_type": "stream",
     "text": [
      "Number of missing values in 'customer_id': 0\n"
     ]
    }
   ],
   "source": [
    "# Check for missing values in the customer_id column\n",
    "missing_customer_id = df_host['customer_id'].isnull().sum()\n",
    "\n",
    "# Display the result\n",
    "print(f\"Number of missing values in 'customer_id': {missing_customer_id}\")"
   ]
  },
  {
   "cell_type": "code",
   "execution_count": 26,
   "id": "945b479c-4fe8-4f60-942c-a3c8e268b561",
   "metadata": {},
   "outputs": [
    {
     "name": "stdout",
     "output_type": "stream",
     "text": [
      "Total rows in the original dataset: 69546\n",
      "Number of duplicate rows in the dataset: 1364\n"
     ]
    }
   ],
   "source": [
    "# Total number of rows in the original dataset\n",
    "total_rows = len(df_host)\n",
    "print(f\"Total rows in the original dataset: {total_rows}\")\n",
    "\n",
    "# Check for duplicate rows\n",
    "duplicate_rows = df_host.duplicated().sum()\n",
    "print(f\"Number of duplicate rows in the dataset: {duplicate_rows}\")"
   ]
  },
  {
   "cell_type": "code",
   "execution_count": 28,
   "id": "a53d9eab-7e15-4f4e-afd3-627b948b5559",
   "metadata": {},
   "outputs": [
    {
     "name": "stdout",
     "output_type": "stream",
     "text": [
      "customer_id               1364\n",
      "host_since                1007\n",
      "host_response_rate          43\n",
      "host_has_profile_pic         2\n",
      "host_identity_verified       2\n",
      "dtype: int64\n"
     ]
    }
   ],
   "source": [
    "print(df_host[df_host.duplicated(keep=False)].nunique())"
   ]
  },
  {
   "cell_type": "code",
   "execution_count": 30,
   "id": "5bee9bab-7f5d-4901-8a5b-3b83b45ae132",
   "metadata": {},
   "outputs": [
    {
     "name": "stdout",
     "output_type": "stream",
     "text": [
      "Are all duplicates exact duplicates?: False\n"
     ]
    }
   ],
   "source": [
    "# Identify all exact duplicate rows\n",
    "exact_duplicates = df_host[df_host.duplicated(keep=False)]\n",
    "\n",
    "# Check if all columns are identical in these rows\n",
    "are_exact_duplicates = (exact_duplicates.nunique() == 1).all()\n",
    "\n",
    "# Display the result\n",
    "print(\"Are all duplicates exact duplicates?:\", are_exact_duplicates)"
   ]
  },
  {
   "cell_type": "code",
   "execution_count": 32,
   "id": "65efba33-eec8-4e40-92f5-6c53396e79fb",
   "metadata": {},
   "outputs": [
    {
     "name": "stdout",
     "output_type": "stream",
     "text": [
      "Number of exact duplicate rows: 2728\n",
      "Number of completely unique rows: 66818\n"
     ]
    }
   ],
   "source": [
    "# Step 1: Find all exact duplicates (including all columns)\n",
    "exact_duplicates = df_host[df_host.duplicated(keep=False)]\n",
    "\n",
    "# Step 2: Count exact duplicate rows\n",
    "exact_duplicates_count = exact_duplicates.shape[0]\n",
    "\n",
    "# Step 3: Drop duplicates and find the unique rows\n",
    "unique_rows = df_host.drop_duplicates(keep=False)\n",
    "\n",
    "# Step 4: Display results\n",
    "print(f\"Number of exact duplicate rows: {exact_duplicates_count}\")\n",
    "print(f\"Number of completely unique rows: {unique_rows.shape[0]}\")"
   ]
  },
  {
   "cell_type": "code",
   "execution_count": null,
   "id": "41edddb8-4ee0-4830-b0da-d9c9eae375f0",
   "metadata": {},
   "outputs": [],
   "source": []
  },
  {
   "cell_type": "code",
   "execution_count": null,
   "id": "d156fe99-0a54-414c-b41f-d89f14a98fcc",
   "metadata": {},
   "outputs": [],
   "source": []
  },
  {
   "cell_type": "code",
   "execution_count": null,
   "id": "59b33e71-276d-44e5-b807-c64c2abdbedd",
   "metadata": {},
   "outputs": [],
   "source": [
    "host_since, host_year/month/day/duration"
   ]
  },
  {
   "cell_type": "code",
   "execution_count": null,
   "id": "461397db-e449-47f3-aa85-1232edf04b9c",
   "metadata": {},
   "outputs": [],
   "source": []
  },
  {
   "cell_type": "code",
   "execution_count": 36,
   "id": "6ff4fddc-39d8-4cf0-b6da-535d2dfc073c",
   "metadata": {},
   "outputs": [],
   "source": [
    "#convert to datetime object\n",
    "df_host['host_since'] = pd.to_datetime(df_host['host_since'], errors='coerce')\n",
    "\n",
    "#Add Feature for experience of host.\n",
    "df_host['host_duration'] = (pd.Timestamp.now() - df_host['host_since']).dt.days\n",
    "\n",
    "df_host['host_year'] = df_host['host_since'].dt.year\n",
    "df_host['host_month'] = df_host['host_since'].dt.month\n",
    "df_host['host_day'] = df_host['host_since'].dt.day"
   ]
  },
  {
   "cell_type": "code",
   "execution_count": 38,
   "id": "a4326cdc-98d0-4e0b-b10f-324eecc468a6",
   "metadata": {},
   "outputs": [
    {
     "name": "stdout",
     "output_type": "stream",
     "text": [
      "Missing values in each column:\n",
      "host_since       173\n",
      "host_year        173\n",
      "host_month       173\n",
      "host_day         173\n",
      "host_duration    173\n",
      "dtype: int64\n"
     ]
    }
   ],
   "source": [
    "# Check for missing values in the relevant columns\n",
    "missing_values = df_host[['host_since', 'host_year', 'host_month', 'host_day', 'host_duration']].isnull().sum()\n",
    "\n",
    "# Display the result\n",
    "print(\"Missing values in each column:\")\n",
    "print(missing_values)"
   ]
  },
  {
   "cell_type": "code",
   "execution_count": 40,
   "id": "4446170b-1198-4cf0-88b5-fceac5fc3eca",
   "metadata": {},
   "outputs": [
    {
     "name": "stdout",
     "output_type": "stream",
     "text": [
      "Rows where all the columns are missing:\n",
      "                                             customer_id host_since  \\\n",
      "471    n1pcV5tqZnJdiP07RrdvGGWf9jmCTFOsI9qXP36Dm8e4Tj...        NaT   \n",
      "1340   Jq8GcSZEBy10PDl6cQalRyAC8z9A5cRV9jkGuwZ1OZMzjm...        NaT   \n",
      "1426   57D1gD5LQC6P8CQFzPRUySBgQYd1Vor3lRaf7MWM6FjBqo...        NaT   \n",
      "2205   msazL1DAKw4IPDC46wxWLBGLak8WyHjvZtgdt7LQ4Ph3uJ...        NaT   \n",
      "3152   l0RFQ3elJmwn93xpFf0HSjGkLRgjKkiyNo54pwhhoj0jYr...        NaT   \n",
      "...                                                  ...        ...   \n",
      "67920  ndUAGXG2P0DLID8gGKEpl29YEW89gmvGSv43E0dcirqh96...        NaT   \n",
      "68354  JaTW5rNRIUrkCiBxeegNU8mokA1JUNoVd22qlQV3AydySe...        NaT   \n",
      "68932  B4vaxeueFJEeJreMMRk9xpxaGkxPvqgnl32yWckpZ5fz3m...        NaT   \n",
      "68933  DYE37JTStXxxqQDJ6JXizKfNjFPNEXDjKLMfIP4ijMgMsa...        NaT   \n",
      "69349  HGcCot3i7ZRJ5AY4lpkykyXcqTVVZqB48X4H53TOSBC55E...        NaT   \n",
      "\n",
      "      host_response_rate host_has_profile_pic host_identity_verified  \\\n",
      "471                  NaN                  NaN                    NaN   \n",
      "1340                 NaN                  NaN                    NaN   \n",
      "1426                 NaN                  NaN                    NaN   \n",
      "2205                 NaN                  NaN                    NaN   \n",
      "3152                 NaN                  NaN                    NaN   \n",
      "...                  ...                  ...                    ...   \n",
      "67920                NaN                  NaN                    NaN   \n",
      "68354                NaN                  NaN                    NaN   \n",
      "68932                NaN                  NaN                    NaN   \n",
      "68933                NaN                  NaN                    NaN   \n",
      "69349                NaN                  NaN                    NaN   \n",
      "\n",
      "       host_duration  host_year  host_month  host_day  \n",
      "471              NaN        NaN         NaN       NaN  \n",
      "1340             NaN        NaN         NaN       NaN  \n",
      "1426             NaN        NaN         NaN       NaN  \n",
      "2205             NaN        NaN         NaN       NaN  \n",
      "3152             NaN        NaN         NaN       NaN  \n",
      "...              ...        ...         ...       ...  \n",
      "67920            NaN        NaN         NaN       NaN  \n",
      "68354            NaN        NaN         NaN       NaN  \n",
      "68932            NaN        NaN         NaN       NaN  \n",
      "68933            NaN        NaN         NaN       NaN  \n",
      "69349            NaN        NaN         NaN       NaN  \n",
      "\n",
      "[173 rows x 9 columns]\n"
     ]
    }
   ],
   "source": [
    "# Filter rows where host_since, host_year, host_month, host_day, and host_duration are all missing\n",
    "missing_rows = df_host[\n",
    "    df_host[['host_since', 'host_year', 'host_month', 'host_day', 'host_duration']].isnull().all(axis=1)\n",
    "]\n",
    "\n",
    "# Display the rows\n",
    "print(\"Rows where all the columns are missing:\")\n",
    "print(missing_rows)"
   ]
  },
  {
   "cell_type": "code",
   "execution_count": 42,
   "id": "8bf505de-7446-444c-a09b-5e32f95d83e2",
   "metadata": {},
   "outputs": [
    {
     "name": "stdout",
     "output_type": "stream",
     "text": [
      "      host_since  host_duration  host_year  host_month  host_day\n",
      "count          0            0.0        0.0         0.0       0.0\n",
      "mean         NaT            NaN        NaN         NaN       NaN\n",
      "min          NaT            NaN        NaN         NaN       NaN\n",
      "25%          NaT            NaN        NaN         NaN       NaN\n",
      "50%          NaT            NaN        NaN         NaN       NaN\n",
      "75%          NaT            NaN        NaN         NaN       NaN\n",
      "max          NaT            NaN        NaN         NaN       NaN\n",
      "std          NaN            NaN        NaN         NaN       NaN\n"
     ]
    }
   ],
   "source": [
    "# Check other columns for patterns in rows with missing host_since\n",
    "missing_rows = df_host[df_host['host_since'].isnull()]\n",
    "print(missing_rows.describe())\n",
    "\n",
    "##Probably these hosts have not verified their profile nor updated their picture. \n",
    "##Validate hypothesis by checking for other patterns with listings or reviews for example."
   ]
  },
  {
   "cell_type": "code",
   "execution_count": 44,
   "id": "1ebdae1f-18da-4220-84b7-23ba204e5e5d",
   "metadata": {},
   "outputs": [
    {
     "name": "stdout",
     "output_type": "stream",
     "text": [
      "Remaining rows: 69373\n"
     ]
    }
   ],
   "source": [
    "df_host = df_host.dropna(subset=['host_since'])\n",
    "print(f\"Remaining rows: {len(df_host)}\")"
   ]
  },
  {
   "cell_type": "code",
   "execution_count": null,
   "id": "e7e2a74b-3062-493b-ae78-feb834d648a8",
   "metadata": {},
   "outputs": [],
   "source": []
  },
  {
   "cell_type": "code",
   "execution_count": null,
   "id": "4d380748-9d9a-4280-b0c2-b003beeee17d",
   "metadata": {},
   "outputs": [],
   "source": []
  },
  {
   "cell_type": "code",
   "execution_count": null,
   "id": "3e66c0eb-48a0-42c5-ac13-c22e739f8c8e",
   "metadata": {},
   "outputs": [],
   "source": []
  },
  {
   "cell_type": "code",
   "execution_count": null,
   "id": "27c9a505-98c1-4842-95e2-15ae1edb7bbc",
   "metadata": {},
   "outputs": [],
   "source": [
    "host_response_rate"
   ]
  },
  {
   "cell_type": "code",
   "execution_count": null,
   "id": "16768142-6c27-4142-a27e-8fb997806d10",
   "metadata": {},
   "outputs": [],
   "source": []
  },
  {
   "cell_type": "code",
   "execution_count": 54,
   "id": "50184360-f8b9-4fc7-81f1-c942c8d6ca81",
   "metadata": {},
   "outputs": [
    {
     "name": "stdout",
     "output_type": "stream",
     "text": [
      "Missing values in 'host_response_rate': 0\n",
      "count     69373.0\n",
      "unique       79.0\n",
      "top         100.0\n",
      "freq      57608.0\n",
      "Name: host_response_rate, dtype: float64\n"
     ]
    },
    {
     "name": "stderr",
     "output_type": "stream",
     "text": [
      "C:\\Users\\Arche\\AppData\\Local\\Temp\\ipykernel_5340\\2114757467.py:13: FutureWarning: A value is trying to be set on a copy of a DataFrame or Series through chained assignment using an inplace method.\n",
      "The behavior will change in pandas 3.0. This inplace method will never work because the intermediate object on which we are setting values always behaves as a copy.\n",
      "\n",
      "For example, when doing 'df[col].method(value, inplace=True)', try using 'df.method({col: value}, inplace=True)' or df[col] = df[col].method(value) instead, to perform the operation inplace on the original object.\n",
      "\n",
      "\n",
      "  df_host['host_response_rate'].fillna(median_response_rate, inplace=True)\n"
     ]
    }
   ],
   "source": [
    "# Step 1: Ensure the column is a string before stripping '%'\n",
    "df_host.loc[:, 'host_response_rate'] = df_host['host_response_rate'].astype(str).str.rstrip('%')\n",
    "\n",
    "# Step 2: Remove '%' and convert to numeric\n",
    "df_host.loc[:, 'host_response_rate'] = pd.to_numeric(df_host['host_response_rate'], errors='coerce')\n",
    "\n",
    "# Step 3: Check for missing values\n",
    "missing_response_rate = df_host['host_response_rate'].isnull().sum()\n",
    "print(f\"Missing values in 'host_response_rate': {missing_response_rate}\")\n",
    "\n",
    "# Step 4: Impute missing values with median\n",
    "median_response_rate = df_host['host_response_rate'].median()\n",
    "df_host['host_response_rate'].fillna(median_response_rate, inplace=True)\n",
    "\n",
    "# Step 5: Verify cleaning\n",
    "print(df_host['host_response_rate'].describe())"
   ]
  },
  {
   "cell_type": "code",
   "execution_count": 48,
   "id": "1c292dce-8294-4678-8067-fbe44bd613ce",
   "metadata": {},
   "outputs": [
    {
     "name": "stdout",
     "output_type": "stream",
     "text": [
      "Total rows in the dataset: 69373\n",
      "Percentage of missing values in 'host_response_rate': 24.54%\n"
     ]
    }
   ],
   "source": [
    "# Check total number of rows in df_host\n",
    "total_rows = len(df_host)\n",
    "print(f\"Total rows in the dataset: {total_rows}\")\n",
    "\n",
    "# Check the percentage of missing values in 'host_response_rate'\n",
    "missing_percentage = (17021 / total_rows) * 100\n",
    "print(f\"Percentage of missing values in 'host_response_rate': {missing_percentage:.2f}%\")"
   ]
  },
  {
   "cell_type": "code",
   "execution_count": null,
   "id": "4c8acc8a-9416-44a8-9dd0-4aa51b69abdd",
   "metadata": {},
   "outputs": [],
   "source": []
  },
  {
   "cell_type": "code",
   "execution_count": null,
   "id": "148c26d7-8b0d-4667-8ed8-8159b5535444",
   "metadata": {},
   "outputs": [],
   "source": []
  },
  {
   "cell_type": "code",
   "execution_count": null,
   "id": "5e2c85e2-491a-4439-9753-aabf4521c5e1",
   "metadata": {},
   "outputs": [],
   "source": []
  },
  {
   "cell_type": "code",
   "execution_count": null,
   "id": "9da34a37-e9a9-443a-bd70-1e7a94c74376",
   "metadata": {},
   "outputs": [],
   "source": []
  },
  {
   "cell_type": "code",
   "execution_count": null,
   "id": "1550c4e9-f1ae-43d3-bfd0-7f701c125e8b",
   "metadata": {},
   "outputs": [],
   "source": [
    "host_has_profile_pic"
   ]
  },
  {
   "cell_type": "code",
   "execution_count": null,
   "id": "ab7979fc-3953-402b-a4b8-2d6e1456f04e",
   "metadata": {},
   "outputs": [],
   "source": []
  },
  {
   "cell_type": "code",
   "execution_count": 56,
   "id": "17a3be7b-105f-4481-91c9-fd01fae28f69",
   "metadata": {},
   "outputs": [
    {
     "name": "stdout",
     "output_type": "stream",
     "text": [
      "Missing values in 'host_has_profile_pic': 0\n",
      "Unique values in 'host_has_profile_pic':\n",
      "['t' 'f']\n",
      "Distribution of 'host_has_profile_pic':\n",
      "host_has_profile_pic\n",
      "t    69150\n",
      "f      223\n",
      "Name: count, dtype: int64\n",
      "0\n"
     ]
    },
    {
     "name": "stderr",
     "output_type": "stream",
     "text": [
      "C:\\Users\\Arche\\AppData\\Local\\Temp\\ipykernel_5340\\1491189298.py:15: FutureWarning: A value is trying to be set on a copy of a DataFrame or Series through chained assignment using an inplace method.\n",
      "The behavior will change in pandas 3.0. This inplace method will never work because the intermediate object on which we are setting values always behaves as a copy.\n",
      "\n",
      "For example, when doing 'df[col].method(value, inplace=True)', try using 'df.method({col: value}, inplace=True)' or df[col] = df[col].method(value) instead, to perform the operation inplace on the original object.\n",
      "\n",
      "\n",
      "  df_host['host_has_profile_pic'].fillna(mode_profile_pic, inplace=True)\n"
     ]
    }
   ],
   "source": [
    "# Step 1: Check for missing values\n",
    "missing_profile_pic = df_host['host_has_profile_pic'].isnull().sum()\n",
    "print(f\"Missing values in 'host_has_profile_pic': {missing_profile_pic}\")\n",
    "\n",
    "# Step 2: Verify binary encoding\n",
    "print(\"Unique values in 'host_has_profile_pic':\")\n",
    "print(df_host['host_has_profile_pic'].unique())\n",
    "\n",
    "# Step 3: Analyze the distribution\n",
    "print(\"Distribution of 'host_has_profile_pic':\")\n",
    "print(df_host['host_has_profile_pic'].value_counts())\n",
    "\n",
    "# Impute missing value with the mode (most common value)\n",
    "mode_profile_pic = df_host['host_has_profile_pic'].mode()[0]\n",
    "df_host['host_has_profile_pic'].fillna(mode_profile_pic, inplace=True)\n",
    "\n",
    "# Verify that there are no missing values left\n",
    "print(df_host['host_has_profile_pic'].isnull().sum())"
   ]
  },
  {
   "cell_type": "code",
   "execution_count": 60,
   "id": "88259e73-622a-4ec7-aa26-336efa31be11",
   "metadata": {},
   "outputs": [],
   "source": [
    "#Change t/f to True and False\n",
    "df_host['host_has_profile_pic'] = df_host['host_has_profile_pic'].map({'t': True, 'f': False}).astype(bool)"
   ]
  },
  {
   "cell_type": "code",
   "execution_count": null,
   "id": "d1b49af9-5d56-42ac-92d8-e4e2df41d9f9",
   "metadata": {},
   "outputs": [],
   "source": []
  },
  {
   "cell_type": "code",
   "execution_count": null,
   "id": "595046b1-877f-4389-8fae-bc65796c8b15",
   "metadata": {},
   "outputs": [],
   "source": []
  },
  {
   "cell_type": "code",
   "execution_count": null,
   "id": "a74871a2-a6be-41e7-b015-4f8044f8436f",
   "metadata": {},
   "outputs": [],
   "source": []
  },
  {
   "cell_type": "code",
   "execution_count": null,
   "id": "e0eb07bc-d258-4744-b23a-0c2ca0909116",
   "metadata": {},
   "outputs": [],
   "source": [
    "host_identity_verified"
   ]
  },
  {
   "cell_type": "code",
   "execution_count": null,
   "id": "3fbc2dff-bdf2-4de1-841d-ed0138d16b2a",
   "metadata": {},
   "outputs": [],
   "source": []
  },
  {
   "cell_type": "code",
   "execution_count": 62,
   "id": "cf438b2e-6c19-41d3-b092-683a59020253",
   "metadata": {},
   "outputs": [
    {
     "name": "stdout",
     "output_type": "stream",
     "text": [
      "Missing values in 'host_identity_verified': 0\n",
      "Unique values in 'host_identity_verified':\n",
      "['t' 'f']\n",
      "Distribution of 'host_identity_verified':\n",
      "host_identity_verified\n",
      "t    46676\n",
      "f    22697\n",
      "Name: count, dtype: int64\n",
      "Missing values in 'host_identity_verified': 0\n"
     ]
    },
    {
     "name": "stderr",
     "output_type": "stream",
     "text": [
      "C:\\Users\\Arche\\AppData\\Local\\Temp\\ipykernel_5340\\3136620077.py:15: FutureWarning: A value is trying to be set on a copy of a DataFrame or Series through chained assignment using an inplace method.\n",
      "The behavior will change in pandas 3.0. This inplace method will never work because the intermediate object on which we are setting values always behaves as a copy.\n",
      "\n",
      "For example, when doing 'df[col].method(value, inplace=True)', try using 'df.method({col: value}, inplace=True)' or df[col] = df[col].method(value) instead, to perform the operation inplace on the original object.\n",
      "\n",
      "\n",
      "  df_host['host_identity_verified'].fillna(mode_identity_verified, inplace=True)\n"
     ]
    }
   ],
   "source": [
    "# Step 1: Check for missing values\n",
    "missing_identity_verified = df_host['host_identity_verified'].isnull().sum()\n",
    "print(f\"Missing values in 'host_identity_verified': {missing_identity_verified}\")\n",
    "\n",
    "# Step 2: Verify binary encoding\n",
    "print(\"Unique values in 'host_identity_verified':\")\n",
    "print(df_host['host_identity_verified'].unique())\n",
    "\n",
    "# Step 3: Analyze the distribution\n",
    "print(\"Distribution of 'host_identity_verified':\")\n",
    "print(df_host['host_identity_verified'].value_counts())\n",
    "\n",
    "# Step 4: Impute the missing value with the mode (most common value)\n",
    "mode_identity_verified = df_host['host_identity_verified'].mode()[0]\n",
    "df_host['host_identity_verified'].fillna(mode_identity_verified, inplace=True)\n",
    "\n",
    "# Step 5: Verify that there are no missing values left\n",
    "print(f\"Missing values in 'host_identity_verified': {df_host['host_identity_verified'].isnull().sum()}\")"
   ]
  },
  {
   "cell_type": "code",
   "execution_count": 68,
   "id": "bf4b4afe-b0e3-4ee5-8933-32723984646d",
   "metadata": {},
   "outputs": [],
   "source": [
    "#Change t/f to True and False\n",
    "df_host['host_identity_verified'] = df_host['host_identity_verified'].map({'t': True, 'f': False}).astype(bool)"
   ]
  },
  {
   "cell_type": "code",
   "execution_count": null,
   "id": "6b48d275-a0cf-439f-904b-29ef3b668774",
   "metadata": {},
   "outputs": [],
   "source": []
  },
  {
   "cell_type": "code",
   "execution_count": null,
   "id": "a93fd7e0-94dd-42ed-99bc-567e3744f35d",
   "metadata": {},
   "outputs": [],
   "source": []
  },
  {
   "cell_type": "code",
   "execution_count": null,
   "id": "e2d0dc71-8936-4822-ab14-5add8afefc48",
   "metadata": {},
   "outputs": [],
   "source": []
  },
  {
   "cell_type": "code",
   "execution_count": null,
   "id": "fb80a4b9-beda-4d53-95e8-53b283ca7cf2",
   "metadata": {},
   "outputs": [],
   "source": []
  },
  {
   "cell_type": "code",
   "execution_count": null,
   "id": "b0ace031-df11-4a53-a827-638575f39310",
   "metadata": {},
   "outputs": [],
   "source": [
    "Summarize"
   ]
  },
  {
   "cell_type": "code",
   "execution_count": null,
   "id": "3da41c94-f464-43f4-9a12-986274dd66a9",
   "metadata": {},
   "outputs": [],
   "source": []
  },
  {
   "cell_type": "code",
   "execution_count": 70,
   "id": "e19c1d5a-ebde-44ae-b39b-b925b63d66a3",
   "metadata": {},
   "outputs": [
    {
     "name": "stdout",
     "output_type": "stream",
     "text": [
      "<class 'pandas.core.frame.DataFrame'>\n",
      "Index: 69373 entries, 0 to 69545\n",
      "Data columns (total 9 columns):\n",
      " #   Column                  Non-Null Count  Dtype         \n",
      "---  ------                  --------------  -----         \n",
      " 0   customer_id             69373 non-null  object        \n",
      " 1   host_since              69373 non-null  datetime64[ns]\n",
      " 2   host_response_rate      69373 non-null  object        \n",
      " 3   host_has_profile_pic    69373 non-null  bool          \n",
      " 4   host_identity_verified  69373 non-null  bool          \n",
      " 5   host_duration           69373 non-null  float64       \n",
      " 6   host_year               69373 non-null  float64       \n",
      " 7   host_month              69373 non-null  float64       \n",
      " 8   host_day                69373 non-null  float64       \n",
      "dtypes: bool(2), datetime64[ns](1), float64(4), object(2)\n",
      "memory usage: 4.4+ MB\n",
      "None\n",
      "                          host_since  host_duration     host_year  \\\n",
      "count                          69373   69373.000000  69373.000000   \n",
      "mean   2015-09-22 03:32:29.582690816    3374.852435   2015.212864   \n",
      "min              2009-05-03 00:00:00    2206.000000   2009.000000   \n",
      "25%              2014-06-23 00:00:00    2855.000000   2014.000000   \n",
      "50%              2015-12-01 00:00:00    3305.000000   2015.000000   \n",
      "75%              2017-02-23 00:00:00    3831.000000   2017.000000   \n",
      "max              2018-12-04 00:00:00    5708.000000   2018.000000   \n",
      "std                              NaN     661.405292      1.833902   \n",
      "\n",
      "         host_month      host_day  \n",
      "count  69373.000000  69373.000000  \n",
      "mean       6.660963     15.631701  \n",
      "min        1.000000      1.000000  \n",
      "25%        4.000000      8.000000  \n",
      "50%        7.000000     16.000000  \n",
      "75%       10.000000     23.000000  \n",
      "max       12.000000     31.000000  \n",
      "std        3.386405      8.770179  \n"
     ]
    }
   ],
   "source": [
    "print(df_host.info())\n",
    "print(df_host.describe())"
   ]
  }
 ],
 "metadata": {
  "kernelspec": {
   "display_name": "Python 3 (ipykernel)",
   "language": "python",
   "name": "python3"
  },
  "language_info": {
   "codemirror_mode": {
    "name": "ipython",
    "version": 3
   },
   "file_extension": ".py",
   "mimetype": "text/x-python",
   "name": "python",
   "nbconvert_exporter": "python",
   "pygments_lexer": "ipython3",
   "version": "3.12.4"
  }
 },
 "nbformat": 4,
 "nbformat_minor": 5
}
