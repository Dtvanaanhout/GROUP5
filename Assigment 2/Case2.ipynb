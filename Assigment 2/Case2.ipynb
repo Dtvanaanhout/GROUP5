{
 "cells": [
  {
   "cell_type": "code",
   "execution_count": 1,
   "metadata": {},
   "outputs": [],
   "source": [
    "import numpy as np\n",
    "import pandas as pd\n",
    "import matplotlib.pyplot as plt\n",
    "import seaborn as sns\n",
    "from datetime import datetime\n"
   ]
  },
  {
   "cell_type": "code",
   "execution_count": 2,
   "metadata": {},
   "outputs": [],
   "source": [
    "df_host = pd.read_csv('host_data.csv')\n",
    "df_loc = pd.read_csv('location_data.csv')\n",
    "df_pric = pd.read_csv('pricing_data.csv')\n",
    "df_prop = pd.read_csv('property_data.csv')\n",
    "df_rev = pd.read_csv('review_data.csv')"
   ]
  },
  {
   "cell_type": "code",
   "execution_count": 3,
   "metadata": {},
   "outputs": [
    {
     "name": "stdout",
     "output_type": "stream",
     "text": [
      "(69546, 5)\n",
      "                                         customer_id  host_since  \\\n",
      "0  4mUYtiM8BCkYchSi0rELebTJxPM68aZdKyUkER7ol5HI32...  10/07/2013   \n",
      "\n",
      "  host_response_rate host_has_profile_pic host_identity_verified  \n",
      "0               100%                    t                      t  \n",
      "(69546, 6)\n",
      "                                         customer_id     neighbourhood  \\\n",
      "0  4mUYtiM8BCkYchSi0rELebTJxPM68aZdKyUkER7ol5HI32...  Columbia Heights   \n",
      "\n",
      "    latitude  longitude city zipcode  \n",
      "0  38.921768 -77.030985   DC   20009  \n",
      "(69546, 4)\n",
      "                                         customer_id  log_price  cleaning_fee  \\\n",
      "0  4mUYtiM8BCkYchSi0rELebTJxPM68aZdKyUkER7ol5HI32...        4.0         False   \n",
      "\n",
      "  cancellation_policy  \n",
      "0            moderate  \n",
      "(69546, 7)\n",
      "                                         customer_id property_type  \\\n",
      "0  4mUYtiM8BCkYchSi0rELebTJxPM68aZdKyUkER7ol5HI32...        house    \n",
      "\n",
      "        room_type  bedrooms  bathrooms  accommodates  beds  \n",
      "0   private room        1.0        1.0             2   1.0  \n",
      "(69546, 5)\n",
      "                                         customer_id  number_of_reviews  \\\n",
      "0  4mUYtiM8BCkYchSi0rELebTJxPM68aZdKyUkER7ol5HI32...                  0   \n",
      "\n",
      "   review_scores_rating first_review last_review  \n",
      "0                   NaN          NaN         NaN  \n"
     ]
    }
   ],
   "source": [
    "dfs = [df_host, df_loc, df_pric, df_prop, df_rev]\n",
    "for i in dfs:\n",
    "    print(i.shape)\n",
    "    print(i.head(1))"
   ]
  },
  {
   "cell_type": "code",
   "execution_count": 4,
   "metadata": {},
   "outputs": [
    {
     "name": "stdout",
     "output_type": "stream",
     "text": [
      "DataFrame 1: 2728 duplicate rows based on 'customer_id'\n",
      "DataFrame 2: 2728 duplicate rows based on 'customer_id'\n",
      "DataFrame 3: 2728 duplicate rows based on 'customer_id'\n",
      "DataFrame 4: 2728 duplicate rows based on 'customer_id'\n",
      "DataFrame 5: 2728 duplicate rows based on 'customer_id'\n"
     ]
    }
   ],
   "source": [
    "for i, df in enumerate(dfs, start=1):\n",
    "    num_duplicates = df.duplicated(subset=['customer_id'], keep=False).sum()\n",
    "    print(f\"DataFrame {i}: {num_duplicates} duplicate rows based on 'customer_id'\")"
   ]
  },
  {
   "cell_type": "code",
   "execution_count": 5,
   "metadata": {},
   "outputs": [
    {
     "name": "stdout",
     "output_type": "stream",
     "text": [
      "DataFrame 1: 2728 fully identical rows\n",
      "DataFrame 2: 2728 fully identical rows\n",
      "DataFrame 3: 2728 fully identical rows\n",
      "DataFrame 4: 2728 fully identical rows\n",
      "DataFrame 5: 2728 fully identical rows\n"
     ]
    }
   ],
   "source": [
    "for i, df in enumerate(dfs, start=1):\n",
    "    num_duplicates = df.duplicated(keep=False).sum()\n",
    "    print(f\"DataFrame {i}: {num_duplicates} fully identical rows\")"
   ]
  },
  {
   "cell_type": "code",
   "execution_count": null,
   "metadata": {},
   "outputs": [],
   "source": [
    "\n",
    "df_host = df_host.drop_duplicates(keep='first')\n",
    "df_loc = df_loc.drop_duplicates(keep='first')\n",
    "df_pric = df_pric.drop_duplicates(keep='first')\n",
    "df_prop = df_prop.drop_duplicates(keep='first')\n",
    "df_rev = df_rev.drop_duplicates(keep='first')\n",
    "dfs = [df_host, df_loc, df_pric, df_prop, df_rev]\n"
   ]
  },
  {
   "cell_type": "code",
   "execution_count": 20,
   "metadata": {},
   "outputs": [
    {
     "name": "stdout",
     "output_type": "stream",
     "text": [
      "(66818, 5)\n",
      "                                         customer_id  host_since  \\\n",
      "0  4mUYtiM8BCkYchSi0rELebTJxPM68aZdKyUkER7ol5HI32...  10/07/2013   \n",
      "\n",
      "  host_response_rate host_has_profile_pic host_identity_verified  \n",
      "0               100%                    t                      t  \n",
      "(66818, 6)\n",
      "                                         customer_id     neighbourhood  \\\n",
      "0  4mUYtiM8BCkYchSi0rELebTJxPM68aZdKyUkER7ol5HI32...  Columbia Heights   \n",
      "\n",
      "    latitude  longitude city zipcode  \n",
      "0  38.921768 -77.030985   DC   20009  \n",
      "(66818, 4)\n",
      "                                         customer_id  log_price  cleaning_fee  \\\n",
      "0  4mUYtiM8BCkYchSi0rELebTJxPM68aZdKyUkER7ol5HI32...        4.0         False   \n",
      "\n",
      "  cancellation_policy  \n",
      "0            moderate  \n",
      "(66818, 7)\n",
      "                                         customer_id property_type  \\\n",
      "0  4mUYtiM8BCkYchSi0rELebTJxPM68aZdKyUkER7ol5HI32...        house    \n",
      "\n",
      "        room_type  bedrooms  bathrooms  accommodates  beds  \n",
      "0   private room        1.0        1.0             2   1.0  \n",
      "(66818, 5)\n",
      "                                         customer_id  number_of_reviews  \\\n",
      "0  4mUYtiM8BCkYchSi0rELebTJxPM68aZdKyUkER7ol5HI32...                  0   \n",
      "\n",
      "   review_scores_rating first_review last_review  \n",
      "0                   NaN          NaN         NaN  \n"
     ]
    }
   ],
   "source": [
    "for i in dfs:\n",
    "    print(i.shape)\n",
    "    print(i.head(1))"
   ]
  },
  {
   "cell_type": "code",
   "execution_count": 23,
   "metadata": {},
   "outputs": [],
   "source": [
    "df = df_host.merge(df_loc, on='customer_id', how='inner') \\\n",
    "                   .merge(df_pric, on='customer_id', how='inner') \\\n",
    "                   .merge(df_rev, on='customer_id', how='inner') \\\n",
    "                   .merge(df_prop, on='customer_id', how='inner')\n",
    "df['host_since'] = pd.to_datetime(df['host_since'])\n",
    "df['first_review'] = pd.to_datetime(df['first_review'])\n",
    "df['last_review'] = pd.to_datetime(df['last_review'])\n"
   ]
  },
  {
   "cell_type": "code",
   "execution_count": 24,
   "metadata": {},
   "outputs": [
    {
     "name": "stdout",
     "output_type": "stream",
     "text": [
      "(66818, 23)\n",
      "0\n"
     ]
    }
   ],
   "source": [
    "print(df.shape)\n",
    "print(df.duplicated().sum())"
   ]
  },
  {
   "cell_type": "code",
   "execution_count": null,
   "metadata": {},
   "outputs": [],
   "source": []
  }
 ],
 "metadata": {
  "kernelspec": {
   "display_name": "Python 3",
   "language": "python",
   "name": "python3"
  },
  "language_info": {
   "codemirror_mode": {
    "name": "ipython",
    "version": 3
   },
   "file_extension": ".py",
   "mimetype": "text/x-python",
   "name": "python",
   "nbconvert_exporter": "python",
   "pygments_lexer": "ipython3",
   "version": "3.13.1"
  }
 },
 "nbformat": 4,
 "nbformat_minor": 2
}
