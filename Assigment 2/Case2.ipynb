{
 "cells": [
  {
   "cell_type": "code",
   "execution_count": 2,
   "metadata": {},
   "outputs": [],
   "source": [
    "import numpy as np\n",
    "import pandas as pd\n",
    "import matplotlib.pyplot as plt\n",
    "import seaborn as sns\n",
    "from datetime import datetime\n"
   ]
  },
  {
   "cell_type": "code",
   "execution_count": 3,
   "metadata": {},
   "outputs": [],
   "source": [
    "df_host = pd.read_csv('host_data.csv')\n",
    "df_loc = pd.read_csv('location_data.csv')\n",
    "df_pric = pd.read_csv('pricing_data.csv')\n",
    "df_prop = pd.read_csv('property_data.csv')\n",
    "df_rev = pd.read_csv('review_data.csv')"
   ]
  },
  {
   "cell_type": "code",
   "execution_count": 4,
   "metadata": {},
   "outputs": [
    {
     "name": "stdout",
     "output_type": "stream",
     "text": [
      "(69546, 5)\n",
      "                                         customer_id  host_since  \\\n",
      "0  4mUYtiM8BCkYchSi0rELebTJxPM68aZdKyUkER7ol5HI32...  10/07/2013   \n",
      "\n",
      "  host_response_rate host_has_profile_pic host_identity_verified  \n",
      "0               100%                    t                      t  \n",
      "(69546, 6)\n",
      "                                         customer_id     neighbourhood  \\\n",
      "0  4mUYtiM8BCkYchSi0rELebTJxPM68aZdKyUkER7ol5HI32...  Columbia Heights   \n",
      "\n",
      "    latitude  longitude city zipcode  \n",
      "0  38.921768 -77.030985   DC   20009  \n",
      "(69546, 4)\n",
      "                                         customer_id  log_price  cleaning_fee  \\\n",
      "0  4mUYtiM8BCkYchSi0rELebTJxPM68aZdKyUkER7ol5HI32...        4.0         False   \n",
      "\n",
      "  cancellation_policy  \n",
      "0            moderate  \n",
      "(69546, 7)\n",
      "                                         customer_id property_type  \\\n",
      "0  4mUYtiM8BCkYchSi0rELebTJxPM68aZdKyUkER7ol5HI32...        house    \n",
      "\n",
      "        room_type  bedrooms  bathrooms  accommodates  beds  \n",
      "0   private room        1.0        1.0             2   1.0  \n",
      "(69546, 5)\n",
      "                                         customer_id  number_of_reviews  \\\n",
      "0  4mUYtiM8BCkYchSi0rELebTJxPM68aZdKyUkER7ol5HI32...                  0   \n",
      "\n",
      "   review_scores_rating first_review last_review  \n",
      "0                   NaN          NaN         NaN  \n"
     ]
    }
   ],
   "source": [
    "dfs = [df_host, df_loc, df_pric, df_prop, df_rev]\n",
    "for i in dfs:\n",
    "    print(i.shape)\n",
    "    print(i.head(1))"
   ]
  },
  {
   "cell_type": "code",
   "execution_count": 5,
   "metadata": {},
   "outputs": [
    {
     "name": "stdout",
     "output_type": "stream",
     "text": [
      "DataFrame 1: 2728 duplicate rows based on 'customer_id'\n",
      "DataFrame 2: 2728 duplicate rows based on 'customer_id'\n",
      "DataFrame 3: 2728 duplicate rows based on 'customer_id'\n",
      "DataFrame 4: 2728 duplicate rows based on 'customer_id'\n",
      "DataFrame 5: 2728 duplicate rows based on 'customer_id'\n"
     ]
    }
   ],
   "source": [
    "for i, df in enumerate(dfs, start=1):\n",
    "    num_duplicates = df.duplicated(subset=['customer_id'], keep=False).sum()\n",
    "    print(f\"DataFrame {i}: {num_duplicates} duplicate rows based on 'customer_id'\")"
   ]
  },
  {
   "cell_type": "code",
   "execution_count": 6,
   "metadata": {},
   "outputs": [
    {
     "name": "stdout",
     "output_type": "stream",
     "text": [
      "DataFrame 1: 2728 fully identical rows\n",
      "DataFrame 2: 2728 fully identical rows\n",
      "DataFrame 3: 2728 fully identical rows\n",
      "DataFrame 4: 2728 fully identical rows\n",
      "DataFrame 5: 2728 fully identical rows\n"
     ]
    }
   ],
   "source": [
    "for i, df in enumerate(dfs, start=1):\n",
    "    num_duplicates = df.duplicated(keep=False).sum()\n",
    "    print(f\"DataFrame {i}: {num_duplicates} fully identical rows\")"
   ]
  },
  {
   "cell_type": "code",
   "execution_count": 7,
   "metadata": {},
   "outputs": [],
   "source": [
    "\n",
    "df_host = df_host.drop_duplicates(keep='first')\n",
    "df_loc = df_loc.drop_duplicates(keep='first')\n",
    "df_pric = df_pric.drop_duplicates(keep='first')\n",
    "df_prop = df_prop.drop_duplicates(keep='first')\n",
    "df_rev = df_rev.drop_duplicates(keep='first')\n",
    "dfs = [df_host, df_loc, df_pric, df_prop, df_rev]\n"
   ]
  },
  {
   "cell_type": "code",
   "execution_count": 8,
   "metadata": {},
   "outputs": [
    {
     "name": "stdout",
     "output_type": "stream",
     "text": [
      "(68182, 5)\n",
      "                                         customer_id  host_since  \\\n",
      "0  4mUYtiM8BCkYchSi0rELebTJxPM68aZdKyUkER7ol5HI32...  10/07/2013   \n",
      "\n",
      "  host_response_rate host_has_profile_pic host_identity_verified  \n",
      "0               100%                    t                      t  \n",
      "(68182, 6)\n",
      "                                         customer_id     neighbourhood  \\\n",
      "0  4mUYtiM8BCkYchSi0rELebTJxPM68aZdKyUkER7ol5HI32...  Columbia Heights   \n",
      "\n",
      "    latitude  longitude city zipcode  \n",
      "0  38.921768 -77.030985   DC   20009  \n",
      "(68182, 4)\n",
      "                                         customer_id  log_price  cleaning_fee  \\\n",
      "0  4mUYtiM8BCkYchSi0rELebTJxPM68aZdKyUkER7ol5HI32...        4.0         False   \n",
      "\n",
      "  cancellation_policy  \n",
      "0            moderate  \n",
      "(68182, 7)\n",
      "                                         customer_id property_type  \\\n",
      "0  4mUYtiM8BCkYchSi0rELebTJxPM68aZdKyUkER7ol5HI32...        house    \n",
      "\n",
      "        room_type  bedrooms  bathrooms  accommodates  beds  \n",
      "0   private room        1.0        1.0             2   1.0  \n",
      "(68182, 5)\n",
      "                                         customer_id  number_of_reviews  \\\n",
      "0  4mUYtiM8BCkYchSi0rELebTJxPM68aZdKyUkER7ol5HI32...                  0   \n",
      "\n",
      "   review_scores_rating first_review last_review  \n",
      "0                   NaN          NaN         NaN  \n"
     ]
    }
   ],
   "source": [
    "for i in dfs:\n",
    "    print(i.shape)\n",
    "    print(i.head(1))"
   ]
  },
  {
   "cell_type": "code",
   "execution_count": 9,
   "metadata": {},
   "outputs": [],
   "source": [
    "df = df_host.merge(df_loc, on='customer_id', how='inner') \\\n",
    "                   .merge(df_pric, on='customer_id', how='inner') \\\n",
    "                   .merge(df_rev, on='customer_id', how='inner') \\\n",
    "                   .merge(df_prop, on='customer_id', how='inner')\n",
    "df['host_since'] = pd.to_datetime(df['host_since'])\n",
    "df['first_review'] = pd.to_datetime(df['first_review'])\n",
    "df['last_review'] = pd.to_datetime(df['last_review'])\n"
   ]
  },
  {
   "cell_type": "code",
   "execution_count": 10,
   "metadata": {},
   "outputs": [
    {
     "name": "stdout",
     "output_type": "stream",
     "text": [
      "(68182, 23)\n",
      "0\n"
     ]
    }
   ],
   "source": [
    "print(df.shape)\n",
    "print(df.duplicated().sum())"
   ]
  },
  {
   "cell_type": "code",
   "execution_count": 12,
   "metadata": {},
   "outputs": [
    {
     "data": {
      "text/html": [
       "<div>\n",
       "<style scoped>\n",
       "    .dataframe tbody tr th:only-of-type {\n",
       "        vertical-align: middle;\n",
       "    }\n",
       "\n",
       "    .dataframe tbody tr th {\n",
       "        vertical-align: top;\n",
       "    }\n",
       "\n",
       "    .dataframe thead th {\n",
       "        text-align: right;\n",
       "    }\n",
       "</style>\n",
       "<table border=\"1\" class=\"dataframe\">\n",
       "  <thead>\n",
       "    <tr style=\"text-align: right;\">\n",
       "      <th></th>\n",
       "      <th>host_since</th>\n",
       "      <th>latitude</th>\n",
       "      <th>longitude</th>\n",
       "      <th>log_price</th>\n",
       "      <th>number_of_reviews</th>\n",
       "      <th>review_scores_rating</th>\n",
       "      <th>first_review</th>\n",
       "      <th>last_review</th>\n",
       "      <th>bedrooms</th>\n",
       "      <th>bathrooms</th>\n",
       "      <th>accommodates</th>\n",
       "      <th>beds</th>\n",
       "    </tr>\n",
       "  </thead>\n",
       "  <tbody>\n",
       "    <tr>\n",
       "      <th>count</th>\n",
       "      <td>68016</td>\n",
       "      <td>68182.000000</td>\n",
       "      <td>68182.000000</td>\n",
       "      <td>68182.000000</td>\n",
       "      <td>68182.000000</td>\n",
       "      <td>52773.000000</td>\n",
       "      <td>53563</td>\n",
       "      <td>53599</td>\n",
       "      <td>68102.000000</td>\n",
       "      <td>68005.000000</td>\n",
       "      <td>68182.000000</td>\n",
       "      <td>68070.000000</td>\n",
       "    </tr>\n",
       "    <tr>\n",
       "      <th>mean</th>\n",
       "      <td>2015-09-21 18:49:56.612561664</td>\n",
       "      <td>38.451586</td>\n",
       "      <td>-92.380279</td>\n",
       "      <td>4.651185</td>\n",
       "      <td>41.664750</td>\n",
       "      <td>94.067156</td>\n",
       "      <td>2016-01-15 08:09:17.578925824</td>\n",
       "      <td>2018-05-15 00:52:50.745722880</td>\n",
       "      <td>1.243796</td>\n",
       "      <td>1.235711</td>\n",
       "      <td>3.156244</td>\n",
       "      <td>1.711165</td>\n",
       "    </tr>\n",
       "    <tr>\n",
       "      <th>min</th>\n",
       "      <td>2009-05-03 00:00:00</td>\n",
       "      <td>33.338905</td>\n",
       "      <td>-122.511500</td>\n",
       "      <td>0.120000</td>\n",
       "      <td>0.000000</td>\n",
       "      <td>20.000000</td>\n",
       "      <td>2008-11-17 00:00:00</td>\n",
       "      <td>2010-03-21 00:00:00</td>\n",
       "      <td>-1.000000</td>\n",
       "      <td>0.000000</td>\n",
       "      <td>1.000000</td>\n",
       "      <td>0.000000</td>\n",
       "    </tr>\n",
       "    <tr>\n",
       "      <th>25%</th>\n",
       "      <td>2014-06-23 00:00:00</td>\n",
       "      <td>34.128665</td>\n",
       "      <td>-118.342356</td>\n",
       "      <td>4.000000</td>\n",
       "      <td>2.000000</td>\n",
       "      <td>92.000000</td>\n",
       "      <td>2015-06-29 00:00:00</td>\n",
       "      <td>2018-03-09 00:00:00</td>\n",
       "      <td>1.000000</td>\n",
       "      <td>1.000000</td>\n",
       "      <td>2.000000</td>\n",
       "      <td>1.000000</td>\n",
       "    </tr>\n",
       "    <tr>\n",
       "      <th>50%</th>\n",
       "      <td>2015-11-30 00:00:00</td>\n",
       "      <td>40.662825</td>\n",
       "      <td>-76.996166</td>\n",
       "      <td>4.715120</td>\n",
       "      <td>12.000000</td>\n",
       "      <td>96.000000</td>\n",
       "      <td>2016-05-26 00:00:00</td>\n",
       "      <td>2018-06-28 00:00:00</td>\n",
       "      <td>1.000000</td>\n",
       "      <td>1.000000</td>\n",
       "      <td>2.000000</td>\n",
       "      <td>1.000000</td>\n",
       "    </tr>\n",
       "    <tr>\n",
       "      <th>75%</th>\n",
       "      <td>2017-02-23 00:00:00</td>\n",
       "      <td>40.746423</td>\n",
       "      <td>-73.954541</td>\n",
       "      <td>5.000000</td>\n",
       "      <td>46.000000</td>\n",
       "      <td>100.000000</td>\n",
       "      <td>2017-01-02 00:00:00</td>\n",
       "      <td>2018-11-09 00:00:00</td>\n",
       "      <td>1.000000</td>\n",
       "      <td>1.000000</td>\n",
       "      <td>4.000000</td>\n",
       "      <td>2.000000</td>\n",
       "    </tr>\n",
       "    <tr>\n",
       "      <th>max</th>\n",
       "      <td>2018-12-04 00:00:00</td>\n",
       "      <td>42.390437</td>\n",
       "      <td>-70.985047</td>\n",
       "      <td>7.718399</td>\n",
       "      <td>1210.000000</td>\n",
       "      <td>100.000000</td>\n",
       "      <td>2017-10-04 00:00:00</td>\n",
       "      <td>2018-12-05 00:00:00</td>\n",
       "      <td>10.000000</td>\n",
       "      <td>8.000000</td>\n",
       "      <td>16.000000</td>\n",
       "      <td>18.000000</td>\n",
       "    </tr>\n",
       "    <tr>\n",
       "      <th>std</th>\n",
       "      <td>NaN</td>\n",
       "      <td>3.079089</td>\n",
       "      <td>21.702499</td>\n",
       "      <td>0.781907</td>\n",
       "      <td>75.304918</td>\n",
       "      <td>7.850617</td>\n",
       "      <td>NaN</td>\n",
       "      <td>NaN</td>\n",
       "      <td>0.878027</td>\n",
       "      <td>0.583663</td>\n",
       "      <td>2.158653</td>\n",
       "      <td>1.254449</td>\n",
       "    </tr>\n",
       "  </tbody>\n",
       "</table>\n",
       "</div>"
      ],
      "text/plain": [
       "                          host_since      latitude     longitude  \\\n",
       "count                          68016  68182.000000  68182.000000   \n",
       "mean   2015-09-21 18:49:56.612561664     38.451586    -92.380279   \n",
       "min              2009-05-03 00:00:00     33.338905   -122.511500   \n",
       "25%              2014-06-23 00:00:00     34.128665   -118.342356   \n",
       "50%              2015-11-30 00:00:00     40.662825    -76.996166   \n",
       "75%              2017-02-23 00:00:00     40.746423    -73.954541   \n",
       "max              2018-12-04 00:00:00     42.390437    -70.985047   \n",
       "std                              NaN      3.079089     21.702499   \n",
       "\n",
       "          log_price  number_of_reviews  review_scores_rating  \\\n",
       "count  68182.000000       68182.000000          52773.000000   \n",
       "mean       4.651185          41.664750             94.067156   \n",
       "min        0.120000           0.000000             20.000000   \n",
       "25%        4.000000           2.000000             92.000000   \n",
       "50%        4.715120          12.000000             96.000000   \n",
       "75%        5.000000          46.000000            100.000000   \n",
       "max        7.718399        1210.000000            100.000000   \n",
       "std        0.781907          75.304918              7.850617   \n",
       "\n",
       "                        first_review                    last_review  \\\n",
       "count                          53563                          53599   \n",
       "mean   2016-01-15 08:09:17.578925824  2018-05-15 00:52:50.745722880   \n",
       "min              2008-11-17 00:00:00            2010-03-21 00:00:00   \n",
       "25%              2015-06-29 00:00:00            2018-03-09 00:00:00   \n",
       "50%              2016-05-26 00:00:00            2018-06-28 00:00:00   \n",
       "75%              2017-01-02 00:00:00            2018-11-09 00:00:00   \n",
       "max              2017-10-04 00:00:00            2018-12-05 00:00:00   \n",
       "std                              NaN                            NaN   \n",
       "\n",
       "           bedrooms     bathrooms  accommodates          beds  \n",
       "count  68102.000000  68005.000000  68182.000000  68070.000000  \n",
       "mean       1.243796      1.235711      3.156244      1.711165  \n",
       "min       -1.000000      0.000000      1.000000      0.000000  \n",
       "25%        1.000000      1.000000      2.000000      1.000000  \n",
       "50%        1.000000      1.000000      2.000000      1.000000  \n",
       "75%        1.000000      1.000000      4.000000      2.000000  \n",
       "max       10.000000      8.000000     16.000000     18.000000  \n",
       "std        0.878027      0.583663      2.158653      1.254449  "
      ]
     },
     "execution_count": 12,
     "metadata": {},
     "output_type": "execute_result"
    }
   ],
   "source": [
    "df.describe()"
   ]
  },
  {
   "cell_type": "code",
   "execution_count": 14,
   "metadata": {},
   "outputs": [
    {
     "name": "stdout",
     "output_type": "stream",
     "text": [
      "customer_id                   0\n",
      "host_since                  166\n",
      "host_response_rate        16866\n",
      "host_has_profile_pic        166\n",
      "host_identity_verified      166\n",
      "neighbourhood              9368\n",
      "latitude                      0\n",
      "longitude                     0\n",
      "city                          0\n",
      "zipcode                     876\n",
      "log_price                     0\n",
      "cleaning_fee                  0\n",
      "cancellation_policy           0\n",
      "number_of_reviews             0\n",
      "review_scores_rating      15409\n",
      "first_review              14619\n",
      "last_review               14583\n",
      "property_type                 0\n",
      "room_type                     0\n",
      "bedrooms                     80\n",
      "bathrooms                   177\n",
      "accommodates                  0\n",
      "beds                        112\n",
      "dtype: int64\n"
     ]
    }
   ],
   "source": [
    "print(df.isna().sum())"
   ]
  },
  {
   "cell_type": "code",
   "execution_count": null,
   "metadata": {},
   "outputs": [
    {
     "name": "stdout",
     "output_type": "stream",
     "text": [
      "customer_id                   0\n",
      "host_since                  166\n",
      "host_response_rate        16866\n",
      "host_has_profile_pic        166\n",
      "host_identity_verified      166\n",
      "neighbourhood              9368\n",
      "latitude                      0\n",
      "longitude                     0\n",
      "city                          0\n",
      "zipcode                       0\n",
      "log_price                     0\n",
      "cleaning_fee                  0\n",
      "cancellation_policy           0\n",
      "number_of_reviews             0\n",
      "review_scores_rating      15409\n",
      "first_review              14619\n",
      "last_review               14583\n",
      "property_type                 0\n",
      "room_type                     0\n",
      "bedrooms                     80\n",
      "bathrooms                   177\n",
      "accommodates                  0\n",
      "beds                        112\n",
      "dtype: int64\n"
     ]
    }
   ],
   "source": [
    "\n",
    "from geopy.geocoders import Nominatim\n",
    "from geopy.exc import GeocoderTimedOut\n",
    "\n",
    "\n",
    "geolocator = Nominatim(user_agent=\"lazaniaa7@gmail.com\")\n",
    "\n",
    "def get_zipcode(lat, lon):\n",
    "    try:\n",
    "        location = geolocator.reverse((lat, lon), exactly_one=True, timeout=10)\n",
    "        if location and 'postcode' in location.raw['address']:\n",
    "            return location.raw['address']['postcode']\n",
    "    except GeocoderTimedOut:\n",
    "        return None\n",
    "    return None\n",
    "\n",
    "for idx, row in df[df['zipcode'].isna()].iterrows():\n",
    "    if pd.notna(row['latitude']) and pd.notna(row['longitude']):\n",
    "        zipcode = get_zipcode(row['latitude'], row['longitude'])\n",
    "        df.at[idx, 'zipcode'] = zipcode\n",
    "\n",
    "print(df.isna().sum())"
   ]
  },
  {
   "cell_type": "code",
   "execution_count": null,
   "metadata": {},
   "outputs": [],
   "source": []
  }
 ],
 "metadata": {
  "kernelspec": {
   "display_name": "Python 3",
   "language": "python",
   "name": "python3"
  },
  "language_info": {
   "codemirror_mode": {
    "name": "ipython",
    "version": 3
   },
   "file_extension": ".py",
   "mimetype": "text/x-python",
   "name": "python",
   "nbconvert_exporter": "python",
   "pygments_lexer": "ipython3",
   "version": "3.13.1"
  }
 },
 "nbformat": 4,
 "nbformat_minor": 2
}
