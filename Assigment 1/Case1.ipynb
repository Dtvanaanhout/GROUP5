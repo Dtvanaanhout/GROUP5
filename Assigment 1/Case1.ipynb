{
 "cells": [
  {
   "attachments": {},
   "cell_type": "markdown",
   "metadata": {
    "id": "xZEzN0FhAXcY"
   },
   "source": [
    "# **The Problem & Business Importance**\n",
    "\n",
    "\n",
    "\n"
   ]
  },
  {
   "attachments": {},
   "cell_type": "markdown",
   "metadata": {
    "id": "MHWy8k7SAZLx"
   },
   "source": [
    "# **Data Identification & Analysis**"
   ]
  },
  {
   "cell_type": "code",
   "execution_count": 1,
   "metadata": {
    "id": "plINWFh7Bgh5"
   },
   "outputs": [],
   "source": [
    "import numpy as np\n",
    "import pandas as pd\n",
    "import seaborn as sns\n",
    "import matplotlib.pyplot as plt\n",
    "import os\n",
    "import joblib\n",
    "\n",
    "from KNN_D import KNN_D\n",
    "from sklearn.ensemble import HistGradientBoostingClassifier\n",
    "from sklearn.model_selection import GridSearchCV,train_test_split , KFold\n",
    "from sklearn.linear_model import LogisticRegression\n",
    "from sklearn.metrics import accuracy_score, classification_report, confusion_matrix\n",
    "from sklearn.neighbors import KNeighborsClassifier\n",
    "from sklearn.ensemble import RandomForestClassifier\n",
    "\n",
    "from xgboost import XGBClassifier"
   ]
  },
  {
   "cell_type": "code",
   "execution_count": 2,
   "metadata": {
    "id": "f6Jvdrwm5OTq"
   },
   "outputs": [],
   "source": [
    "df = pd.read_csv('i4talent_dataset.csv')\n",
    "df['datum'] = pd.to_datetime(df['datum'])\n",
    "df['geboortedatum'] = pd.to_datetime(df['geboortedatum'])\n",
    "df['indiensttreding_datum'] = pd.to_datetime(df['indiensttreding_datum'])\n"
   ]
  },
  {
   "cell_type": "code",
   "execution_count": 3,
   "metadata": {
    "colab": {
     "base_uri": "https://localhost:8080/",
     "height": 206
    },
    "id": "JXnHTqgh5WGp",
    "outputId": "72520840-948d-446f-d6d6-1017168ac6be"
   },
   "outputs": [
    {
     "data": {
      "text/html": [
       "<div>\n",
       "<style scoped>\n",
       "    .dataframe tbody tr th:only-of-type {\n",
       "        vertical-align: middle;\n",
       "    }\n",
       "\n",
       "    .dataframe tbody tr th {\n",
       "        vertical-align: top;\n",
       "    }\n",
       "\n",
       "    .dataframe thead th {\n",
       "        text-align: right;\n",
       "    }\n",
       "</style>\n",
       "<table border=\"1\" class=\"dataframe\">\n",
       "  <thead>\n",
       "    <tr style=\"text-align: right;\">\n",
       "      <th></th>\n",
       "      <th>WerknemerID</th>\n",
       "      <th>datum</th>\n",
       "      <th>geboortedatum</th>\n",
       "      <th>indiensttreding_datum</th>\n",
       "      <th>uitdiensttreding_datum</th>\n",
       "      <th>leeftijd</th>\n",
       "      <th>lengte_dienst</th>\n",
       "      <th>stad</th>\n",
       "      <th>afdeling</th>\n",
       "      <th>klant_id</th>\n",
       "      <th>geslacht_id</th>\n",
       "      <th>geslacht</th>\n",
       "      <th>uitdiensttreding_reden</th>\n",
       "      <th>uitdiensttreding_type</th>\n",
       "      <th>STATUS_JAAR</th>\n",
       "      <th>STATUS</th>\n",
       "      <th>BUSINESS_UNIT</th>\n",
       "    </tr>\n",
       "  </thead>\n",
       "  <tbody>\n",
       "    <tr>\n",
       "      <th>0</th>\n",
       "      <td>6962</td>\n",
       "      <td>2018-12-31 05:06:00</td>\n",
       "      <td>1989-06-26 05:06:00</td>\n",
       "      <td>2013-05-23 05:06:00</td>\n",
       "      <td>1905-01-01 05:06:00</td>\n",
       "      <td>29.0</td>\n",
       "      <td>5.0</td>\n",
       "      <td>Amstelveen</td>\n",
       "      <td>BI</td>\n",
       "      <td>30</td>\n",
       "      <td>V</td>\n",
       "      <td>Vrouw</td>\n",
       "      <td>Niet van toepassing</td>\n",
       "      <td>Niet van toepassing</td>\n",
       "      <td>2018</td>\n",
       "      <td>Actief</td>\n",
       "      <td>Detachering</td>\n",
       "    </tr>\n",
       "    <tr>\n",
       "      <th>1</th>\n",
       "      <td>6212</td>\n",
       "      <td>2016-12-30 05:06:00</td>\n",
       "      <td>1983-08-25 05:06:00</td>\n",
       "      <td>2010-04-24 05:06:00</td>\n",
       "      <td>1905-01-01 05:06:00</td>\n",
       "      <td>33.0</td>\n",
       "      <td>6.0</td>\n",
       "      <td>Utrecht</td>\n",
       "      <td>Accountant</td>\n",
       "      <td>21</td>\n",
       "      <td>M</td>\n",
       "      <td>Man</td>\n",
       "      <td>Niet van toepassing</td>\n",
       "      <td>Niet van toepassing</td>\n",
       "      <td>2016</td>\n",
       "      <td>Actief</td>\n",
       "      <td>Detachering</td>\n",
       "    </tr>\n",
       "    <tr>\n",
       "      <th>2</th>\n",
       "      <td>5325</td>\n",
       "      <td>2018-12-31 05:06:00</td>\n",
       "      <td>1976-04-24 05:06:00</td>\n",
       "      <td>2006-06-09 05:06:00</td>\n",
       "      <td>1905-01-01 05:06:00</td>\n",
       "      <td>42.0</td>\n",
       "      <td>12.0</td>\n",
       "      <td>Amsterdam</td>\n",
       "      <td>BI</td>\n",
       "      <td>42</td>\n",
       "      <td>V</td>\n",
       "      <td>Vrouw</td>\n",
       "      <td>Niet van toepassing</td>\n",
       "      <td>Niet van toepassing</td>\n",
       "      <td>2018</td>\n",
       "      <td>Actief</td>\n",
       "      <td>Detachering</td>\n",
       "    </tr>\n",
       "    <tr>\n",
       "      <th>3</th>\n",
       "      <td>8193</td>\n",
       "      <td>2018-12-31 05:06:00</td>\n",
       "      <td>1998-10-26 05:06:00</td>\n",
       "      <td>2018-04-28 05:06:00</td>\n",
       "      <td>1905-01-01 05:06:00</td>\n",
       "      <td>20.0</td>\n",
       "      <td>NaN</td>\n",
       "      <td>Utrecht</td>\n",
       "      <td>BI</td>\n",
       "      <td>21</td>\n",
       "      <td>V</td>\n",
       "      <td>Vrouw</td>\n",
       "      <td>Niet van toepassing</td>\n",
       "      <td>Niet van toepassing</td>\n",
       "      <td>2018</td>\n",
       "      <td>Actief</td>\n",
       "      <td>Detachering</td>\n",
       "    </tr>\n",
       "    <tr>\n",
       "      <th>4</th>\n",
       "      <td>5926</td>\n",
       "      <td>2013-12-31 05:06:00</td>\n",
       "      <td>1981-03-19 05:06:00</td>\n",
       "      <td>2009-01-09 05:06:00</td>\n",
       "      <td>1905-01-01 05:06:00</td>\n",
       "      <td>32.0</td>\n",
       "      <td>4.0</td>\n",
       "      <td>Den Haag</td>\n",
       "      <td>Accountant</td>\n",
       "      <td>18</td>\n",
       "      <td>M</td>\n",
       "      <td>Man</td>\n",
       "      <td>Niet van toepassing</td>\n",
       "      <td>Niet van toepassing</td>\n",
       "      <td>2013</td>\n",
       "      <td>Actief</td>\n",
       "      <td>Detachering</td>\n",
       "    </tr>\n",
       "  </tbody>\n",
       "</table>\n",
       "</div>"
      ],
      "text/plain": [
       "   WerknemerID               datum       geboortedatum indiensttreding_datum  \\\n",
       "0         6962 2018-12-31 05:06:00 1989-06-26 05:06:00   2013-05-23 05:06:00   \n",
       "1         6212 2016-12-30 05:06:00 1983-08-25 05:06:00   2010-04-24 05:06:00   \n",
       "2         5325 2018-12-31 05:06:00 1976-04-24 05:06:00   2006-06-09 05:06:00   \n",
       "3         8193 2018-12-31 05:06:00 1998-10-26 05:06:00   2018-04-28 05:06:00   \n",
       "4         5926 2013-12-31 05:06:00 1981-03-19 05:06:00   2009-01-09 05:06:00   \n",
       "\n",
       "  uitdiensttreding_datum  leeftijd  lengte_dienst        stad    afdeling  \\\n",
       "0    1905-01-01 05:06:00      29.0            5.0  Amstelveen          BI   \n",
       "1    1905-01-01 05:06:00      33.0            6.0     Utrecht  Accountant   \n",
       "2    1905-01-01 05:06:00      42.0           12.0   Amsterdam          BI   \n",
       "3    1905-01-01 05:06:00      20.0            NaN     Utrecht          BI   \n",
       "4    1905-01-01 05:06:00      32.0            4.0    Den Haag  Accountant   \n",
       "\n",
       "   klant_id geslacht_id geslacht uitdiensttreding_reden uitdiensttreding_type  \\\n",
       "0        30           V    Vrouw    Niet van toepassing   Niet van toepassing   \n",
       "1        21           M      Man    Niet van toepassing   Niet van toepassing   \n",
       "2        42           V    Vrouw    Niet van toepassing   Niet van toepassing   \n",
       "3        21           V    Vrouw    Niet van toepassing   Niet van toepassing   \n",
       "4        18           M      Man    Niet van toepassing   Niet van toepassing   \n",
       "\n",
       "   STATUS_JAAR  STATUS BUSINESS_UNIT  \n",
       "0         2018  Actief   Detachering  \n",
       "1         2016  Actief   Detachering  \n",
       "2         2018  Actief   Detachering  \n",
       "3         2018  Actief   Detachering  \n",
       "4         2013  Actief   Detachering  "
      ]
     },
     "execution_count": 3,
     "metadata": {},
     "output_type": "execute_result"
    }
   ],
   "source": [
    "df.head()"
   ]
  },
  {
   "cell_type": "code",
   "execution_count": 4,
   "metadata": {
    "colab": {
     "base_uri": "https://localhost:8080/",
     "height": 300
    },
    "id": "VKwqRLC-5_IZ",
    "outputId": "89956ba4-116f-4b0f-eb74-70161c7bc364"
   },
   "outputs": [
    {
     "data": {
      "text/html": [
       "<div>\n",
       "<style scoped>\n",
       "    .dataframe tbody tr th:only-of-type {\n",
       "        vertical-align: middle;\n",
       "    }\n",
       "\n",
       "    .dataframe tbody tr th {\n",
       "        vertical-align: top;\n",
       "    }\n",
       "\n",
       "    .dataframe thead th {\n",
       "        text-align: right;\n",
       "    }\n",
       "</style>\n",
       "<table border=\"1\" class=\"dataframe\">\n",
       "  <thead>\n",
       "    <tr style=\"text-align: right;\">\n",
       "      <th></th>\n",
       "      <th>WerknemerID</th>\n",
       "      <th>datum</th>\n",
       "      <th>geboortedatum</th>\n",
       "      <th>indiensttreding_datum</th>\n",
       "      <th>leeftijd</th>\n",
       "      <th>lengte_dienst</th>\n",
       "      <th>klant_id</th>\n",
       "      <th>STATUS_JAAR</th>\n",
       "    </tr>\n",
       "  </thead>\n",
       "  <tbody>\n",
       "    <tr>\n",
       "      <th>count</th>\n",
       "      <td>49753.000000</td>\n",
       "      <td>49753</td>\n",
       "      <td>49753</td>\n",
       "      <td>49753</td>\n",
       "      <td>44653.000000</td>\n",
       "      <td>44802.000000</td>\n",
       "      <td>49753.000000</td>\n",
       "      <td>49753.000000</td>\n",
       "    </tr>\n",
       "    <tr>\n",
       "      <th>mean</th>\n",
       "      <td>4859.473600</td>\n",
       "      <td>2016-08-06 00:21:52.006914304</td>\n",
       "      <td>1974-01-10 05:10:34.379434400</td>\n",
       "      <td>2005-09-04 11:13:13.710530176</td>\n",
       "      <td>42.046223</td>\n",
       "      <td>10.442592</td>\n",
       "      <td>27.296525</td>\n",
       "      <td>2015.612566</td>\n",
       "    </tr>\n",
       "    <tr>\n",
       "      <th>min</th>\n",
       "      <td>1318.000000</td>\n",
       "      <td>2011-01-01 05:06:00</td>\n",
       "      <td>1946-01-15 05:06:00</td>\n",
       "      <td>1994-08-28 05:06:00</td>\n",
       "      <td>19.000000</td>\n",
       "      <td>0.000000</td>\n",
       "      <td>1.000000</td>\n",
       "      <td>2011.000000</td>\n",
       "    </tr>\n",
       "    <tr>\n",
       "      <th>25%</th>\n",
       "      <td>3360.000000</td>\n",
       "      <td>2013-12-31 05:06:00</td>\n",
       "      <td>1963-05-28 05:06:00</td>\n",
       "      <td>2000-06-01 05:06:00</td>\n",
       "      <td>31.000000</td>\n",
       "      <td>5.000000</td>\n",
       "      <td>16.000000</td>\n",
       "      <td>2013.000000</td>\n",
       "    </tr>\n",
       "    <tr>\n",
       "      <th>50%</th>\n",
       "      <td>5031.000000</td>\n",
       "      <td>2016-12-30 05:06:00</td>\n",
       "      <td>1973-12-04 05:06:00</td>\n",
       "      <td>2005-03-31 05:06:00</td>\n",
       "      <td>42.000000</td>\n",
       "      <td>10.000000</td>\n",
       "      <td>28.000000</td>\n",
       "      <td>2016.000000</td>\n",
       "    </tr>\n",
       "    <tr>\n",
       "      <th>75%</th>\n",
       "      <td>6335.000000</td>\n",
       "      <td>2018-12-31 05:06:00</td>\n",
       "      <td>1984-07-17 05:06:00</td>\n",
       "      <td>2010-10-13 05:06:00</td>\n",
       "      <td>53.000000</td>\n",
       "      <td>15.000000</td>\n",
       "      <td>42.000000</td>\n",
       "      <td>2018.000000</td>\n",
       "    </tr>\n",
       "    <tr>\n",
       "      <th>max</th>\n",
       "      <td>8336.000000</td>\n",
       "      <td>2020-12-30 05:06:00</td>\n",
       "      <td>1999-12-31 05:06:00</td>\n",
       "      <td>2018-12-11 05:06:00</td>\n",
       "      <td>65.000000</td>\n",
       "      <td>26.000000</td>\n",
       "      <td>46.000000</td>\n",
       "      <td>2020.000000</td>\n",
       "    </tr>\n",
       "    <tr>\n",
       "      <th>std</th>\n",
       "      <td>1827.113618</td>\n",
       "      <td>NaN</td>\n",
       "      <td>NaN</td>\n",
       "      <td>NaN</td>\n",
       "      <td>12.424199</td>\n",
       "      <td>6.326893</td>\n",
       "      <td>13.512861</td>\n",
       "      <td>2.845621</td>\n",
       "    </tr>\n",
       "  </tbody>\n",
       "</table>\n",
       "</div>"
      ],
      "text/plain": [
       "        WerknemerID                          datum  \\\n",
       "count  49753.000000                          49753   \n",
       "mean    4859.473600  2016-08-06 00:21:52.006914304   \n",
       "min     1318.000000            2011-01-01 05:06:00   \n",
       "25%     3360.000000            2013-12-31 05:06:00   \n",
       "50%     5031.000000            2016-12-30 05:06:00   \n",
       "75%     6335.000000            2018-12-31 05:06:00   \n",
       "max     8336.000000            2020-12-30 05:06:00   \n",
       "std     1827.113618                            NaN   \n",
       "\n",
       "                       geboortedatum          indiensttreding_datum  \\\n",
       "count                          49753                          49753   \n",
       "mean   1974-01-10 05:10:34.379434400  2005-09-04 11:13:13.710530176   \n",
       "min              1946-01-15 05:06:00            1994-08-28 05:06:00   \n",
       "25%              1963-05-28 05:06:00            2000-06-01 05:06:00   \n",
       "50%              1973-12-04 05:06:00            2005-03-31 05:06:00   \n",
       "75%              1984-07-17 05:06:00            2010-10-13 05:06:00   \n",
       "max              1999-12-31 05:06:00            2018-12-11 05:06:00   \n",
       "std                              NaN                            NaN   \n",
       "\n",
       "           leeftijd  lengte_dienst      klant_id   STATUS_JAAR  \n",
       "count  44653.000000   44802.000000  49753.000000  49753.000000  \n",
       "mean      42.046223      10.442592     27.296525   2015.612566  \n",
       "min       19.000000       0.000000      1.000000   2011.000000  \n",
       "25%       31.000000       5.000000     16.000000   2013.000000  \n",
       "50%       42.000000      10.000000     28.000000   2016.000000  \n",
       "75%       53.000000      15.000000     42.000000   2018.000000  \n",
       "max       65.000000      26.000000     46.000000   2020.000000  \n",
       "std       12.424199       6.326893     13.512861      2.845621  "
      ]
     },
     "execution_count": 4,
     "metadata": {},
     "output_type": "execute_result"
    }
   ],
   "source": [
    "df.describe()"
   ]
  },
  {
   "cell_type": "code",
   "execution_count": 5,
   "metadata": {
    "colab": {
     "base_uri": "https://localhost:8080/"
    },
    "id": "fbDDKRwf7Y_d",
    "outputId": "42a86b64-0b52-4eec-b3f0-4f420d1080e4"
   },
   "outputs": [
    {
     "name": "stdout",
     "output_type": "stream",
     "text": [
      "WerknemerID                  0\n",
      "datum                        0\n",
      "geboortedatum                0\n",
      "indiensttreding_datum        0\n",
      "uitdiensttreding_datum       0\n",
      "leeftijd                  5100\n",
      "lengte_dienst             4951\n",
      "stad                      5543\n",
      "afdeling                  5065\n",
      "klant_id                     0\n",
      "geslacht_id                  0\n",
      "geslacht                     0\n",
      "uitdiensttreding_reden       0\n",
      "uitdiensttreding_type        0\n",
      "STATUS_JAAR                  0\n",
      "STATUS                       0\n",
      "BUSINESS_UNIT                0\n",
      "dtype: int64\n"
     ]
    }
   ],
   "source": [
    "print(df.isna().sum())"
   ]
  },
  {
   "cell_type": "code",
   "execution_count": 6,
   "metadata": {
    "colab": {
     "base_uri": "https://localhost:8080/"
    },
    "id": "7omAH42L8a2D",
    "outputId": "87eb756c-c506-4ccb-b41f-676e241a2f3d"
   },
   "outputs": [
    {
     "name": "stdout",
     "output_type": "stream",
     "text": [
      "WerknemerID                  0\n",
      "datum                        0\n",
      "geboortedatum                0\n",
      "indiensttreding_datum        0\n",
      "uitdiensttreding_datum       0\n",
      "leeftijd                     0\n",
      "lengte_dienst                0\n",
      "stad                      5543\n",
      "afdeling                  5065\n",
      "klant_id                     0\n",
      "geslacht_id                  0\n",
      "geslacht                     0\n",
      "uitdiensttreding_reden       0\n",
      "uitdiensttreding_type        0\n",
      "STATUS_JAAR                  0\n",
      "STATUS                       0\n",
      "BUSINESS_UNIT                0\n",
      "dtype: int64\n"
     ]
    }
   ],
   "source": [
    "df['leeftijd'] = df['leeftijd'].fillna((df['datum'] - df['geboortedatum']).dt.days // 365)\n",
    "df['lengte_dienst'] = df['lengte_dienst'].fillna((df['datum'] - df['indiensttreding_datum']).dt.days // 365)\n",
    "df['stad'] = df['stad'].fillna(df['stad'].mode())\n",
    "df['afdeling'] = df['afdeling'].fillna(df['afdeling'].mode())\n",
    "\n",
    "print(df.isna().sum())"
   ]
  },
  {
   "cell_type": "code",
   "execution_count": 7,
   "metadata": {
    "colab": {
     "base_uri": "https://localhost:8080/",
     "height": 927
    },
    "id": "4pN76r4P8ip_",
    "outputId": "59b58995-917d-476e-f78a-961e868e8886"
   },
   "outputs": [
    {
     "data": {
      "image/png": "[encoded data removed]",
      "text/plain": [
       "<Figure size 640x480 with 1 Axes>"
      ]
     },
     "metadata": {},
     "output_type": "display_data"
    },
    {
     "data": {
      "image/png": "[encoded data removed]",
      "text/plain": [
       "<Figure size 640x480 with 1 Axes>"
      ]
     },
     "metadata": {},
     "output_type": "display_data"
    }
   ],
   "source": [
    "columns_numerical_with_nas = ['leeftijd', 'lengte_dienst']\n",
    "for col in columns_numerical_with_nas:\n",
    "    plt.hist(df[col], bins=100)\n",
    "    plt.title(col)\n",
    "    plt.xlabel(col)\n",
    "    plt.ylabel('Frequency')\n",
    "    plt.show()"
   ]
  },
  {
   "cell_type": "code",
   "execution_count": 8,
   "metadata": {},
   "outputs": [],
   "source": [
    "df_sort = df.sort_values(by=['WerknemerID', 'datum'])\n",
    "# filling in the missing values based on values that where put first.\n",
    "df_sort['stad'] = df_sort.groupby('WerknemerID')['stad'].ffill()\n",
    "most_common_value = df_sort['stad'].mode()[0]  \n",
    "df_sort['stad'] = df_sort['stad'].fillna(most_common_value)\n",
    "\n",
    "df_sort['afdeling'] = df_sort.groupby('WerknemerID')['afdeling'].ffill()\n",
    "most_common_value_2 = df_sort['afdeling'].mode()[0]  \n",
    "df_sort['afdeling'] = df_sort['afdeling'].fillna(most_common_value_2)\n"
   ]
  },
  {
   "cell_type": "code",
   "execution_count": 9,
   "metadata": {},
   "outputs": [
    {
     "data": {
      "text/plain": [
       "WerknemerID               6284\n",
       "datum                     6284\n",
       "geboortedatum             6284\n",
       "indiensttreding_datum     6284\n",
       "uitdiensttreding_datum    6284\n",
       "leeftijd                  6284\n",
       "lengte_dienst             6284\n",
       "stad                      6284\n",
       "afdeling                  6284\n",
       "klant_id                  6284\n",
       "geslacht_id               6284\n",
       "geslacht                  6284\n",
       "uitdiensttreding_reden    6284\n",
       "uitdiensttreding_type     6284\n",
       "STATUS_JAAR               6284\n",
       "STATUS                    6284\n",
       "BUSINESS_UNIT             6284\n",
       "dtype: int64"
      ]
     },
     "execution_count": 9,
     "metadata": {},
     "output_type": "execute_result"
    }
   ],
   "source": [
    "df_sort = df_sort.sort_values(by='datum', ascending=False)\n",
    "df_sort = df_sort.drop_duplicates(subset='WerknemerID', keep='first')\n",
    "df_sort.count()"
   ]
  },
  {
   "cell_type": "code",
   "execution_count": 10,
   "metadata": {
    "colab": {
     "base_uri": "https://localhost:8080/",
     "height": 1000
    },
    "id": "iCGSj9AbGNIL",
    "outputId": "1a61ed89-4487-46e3-aa41-1d2894b3fb06"
   },
   "outputs": [],
   "source": [
    "columns_to_delete = ['geboortedatum', 'WerknemerID', 'uitdiensttreding_datum', 'indiensttreding_datum', 'geslacht', 'uitdiensttreding_type', 'datum', 'STATUS_JAAR', 'uitdiensttreding_reden']\n",
    "df_new = df_sort.drop(columns=columns_to_delete)\n"
   ]
  },
  {
   "cell_type": "code",
   "execution_count": 11,
   "metadata": {
    "colab": {
     "base_uri": "https://localhost:8080/",
     "height": 479
    },
    "id": "W4hkCTGFI89z",
    "outputId": "72b1fb39-7491-4a86-cd5f-a7c0970160d2"
   },
   "outputs": [
    {
     "data": {
      "text/plain": [
       "Index(['leeftijd', 'lengte_dienst', 'klant_id', 'stad_Almere',\n",
       "       'stad_Alphen aan den Rijn', 'stad_Amstelveen', 'stad_Amsterdam',\n",
       "       'stad_Barendrecht', 'stad_Breda', 'stad_Capelle', 'stad_Delft',\n",
       "       'stad_Den Haag', 'stad_Dordrecht', 'stad_Eindhoven', 'stad_Gouda',\n",
       "       'stad_Haarlem', 'stad_Hoogeveen', 'stad_Leiden', 'stad_Lelystad',\n",
       "       'stad_Middelburg', 'stad_Pijnacker', 'stad_Rijswijk', 'stad_Roermond',\n",
       "       'stad_Rotterdam', 'stad_Schiedam', 'stad_Tilburg', 'stad_Utrecht',\n",
       "       'stad_Veenendaal', 'stad_Woerden', 'stad_Zaandam', 'stad_Zeist',\n",
       "       'stad_Zoetermeer', 'afdeling_Administratief medewerker', 'afdeling_BI',\n",
       "       'afdeling_Boekhouder', 'afdeling_Business analist',\n",
       "       'afdeling_Business controller', 'afdeling_Business development',\n",
       "       'afdeling_Credit controller', 'afdeling_Financial controller',\n",
       "       'afdeling_HR', 'afdeling_IT', 'afdeling_Legal', 'afdeling_Marketing',\n",
       "       'afdeling_Office manager', 'afdeling_Project controller',\n",
       "       'geslacht_id_V', 'STATUS_Beëindigd', 'BUSINESS_UNIT_Intern'],\n",
       "      dtype='object')"
      ]
     },
     "execution_count": 11,
     "metadata": {},
     "output_type": "execute_result"
    }
   ],
   "source": [
    "df_with_dummies = pd.get_dummies(df_new, columns=['stad', 'afdeling', 'geslacht_id', 'STATUS', 'BUSINESS_UNIT'], drop_first=True , dtype = int)\n",
    "df_with_dummies.columns"
   ]
  },
  {
   "attachments": {},
   "cell_type": "markdown",
   "metadata": {
    "id": "n2OVALsLKODq"
   },
   "source": [
    "geboortedatum, WerknemerID, uitdiensttreding_datum, indiensttreding_datum, geslacht, uitdiensttreding_type"
   ]
  },
  {
   "attachments": {},
   "cell_type": "markdown",
   "metadata": {
    "id": "RBA427i_KbZD"
   },
   "source": [
    "Dummies: 'stad', 'afdeling', 'geslachtID', 'uitdiensttreding_reden', 'Status', 'BUSINESS_UNIT'"
   ]
  },
  {
   "cell_type": "code",
   "execution_count": 12,
   "metadata": {
    "id": "2nGpDbGgP2eK"
   },
   "outputs": [],
   "source": [
    "#Used later for model evaluation\n",
    "model_scores = {}\n",
    "\n",
    "#You can download the pretrained models here : https://github.com/dvanaanhout/GROUP5\n",
    "#Saves time running the file."
   ]
  },
  {
   "cell_type": "code",
   "execution_count": 13,
   "metadata": {},
   "outputs": [],
   "source": [
    "X = df_with_dummies.drop(columns=['STATUS_Beëindigd'])\n",
    "y = df_with_dummies['STATUS_Beëindigd']\n",
    "\n",
    "X_train, X_test, y_train, y_test = train_test_split(X, y, test_size=0.2, random_state=42)\n"
   ]
  },
  {
   "cell_type": "code",
   "execution_count": 14,
   "metadata": {
    "colab": {
     "base_uri": "https://localhost:8080/"
    },
    "id": "KLPPLuhchdar",
    "outputId": "f820ae07-b842-4abe-ca6f-808e939c7431"
   },
   "outputs": [
    {
     "name": "stdout",
     "output_type": "stream",
     "text": [
      "Train Score: 0.7680525164113785\n",
      "Test Score: 0.766109785202864\n",
      "Confusion Matrix:\n",
      "[[958   0]\n",
      " [294   5]]\n",
      "              precision    recall  f1-score   support\n",
      "\n",
      "           0       0.77      1.00      0.87       958\n",
      "           1       1.00      0.02      0.03       299\n",
      "\n",
      "    accuracy                           0.77      1257\n",
      "   macro avg       0.88      0.51      0.45      1257\n",
      "weighted avg       0.82      0.77      0.67      1257\n",
      "\n"
     ]
    }
   ],
   "source": [
    "\n",
    "saved_model_name = 'model_lr.joblib'\n",
    "\n",
    "if os.path.exists(saved_model_name):\n",
    "    loaded_model = joblib.load(saved_model_name)\n",
    "    model_lr = loaded_model\n",
    "else:\n",
    "    model_lr = LogisticRegression()\n",
    "    model_lr.fit(X_train, y_train)\n",
    "    joblib.dump(model_lr, saved_model_name)\n",
    "\n",
    "y_pred = model_lr.predict(X_test)\n",
    "\n",
    "train_score = model_lr.score(X_train, y_train)\n",
    "test_score = model_lr.score(X_test, y_test)\n",
    "\n",
    "\n",
    "model_scores['Logistic Regression'] = {\n",
    "    'Train Score': train_score,\n",
    "    'Test Score': test_score\n",
    "}\n",
    "\n",
    "\n",
    "conf_matrix = confusion_matrix(y_test, y_pred)\n",
    "\n",
    "print(f\"Train Score: {train_score}\")\n",
    "print(f\"Test Score: {test_score}\")\n",
    "print(\"Confusion Matrix:\")\n",
    "print(conf_matrix)\n",
    "print(classification_report(y_test, y_pred))\n",
    "\n"
   ]
  },
  {
   "cell_type": "code",
   "execution_count": null,
   "metadata": {},
   "outputs": [],
   "source": []
  },
  {
   "cell_type": "code",
   "execution_count": null,
   "metadata": {},
   "outputs": [],
   "source": [
    "coefficients = model_lr.coef_[0]\n",
    "\n",
    "feature_importance = pd.DataFrame({\n",
    "    'Feature': X_train.columns,\n",
    "    'Coefficient': coefficients,\n",
    "    'Importance': np.abs(coefficients)\n",
    "})\n",
    "\n",
    "feature_importance = feature_importance.sort_values(by='Importance', ascending=False)\n",
    "\n",
    "plt.figure(figsize=(10, 6))\n",
    "plt.barh(feature_importance['Feature'], feature_importance['Importance'])\n",
    "plt.xlabel('Importance')\n",
    "plt.title('Feature Importance (Logistic Regression)')\n",
    "plt.show()"
   ]
  },
  {
   "cell_type": "code",
   "execution_count": null,
   "metadata": {},
   "outputs": [],
   "source": [
    "saved_model_name = 'model_lr_TUNED.joblib'\n",
    "\n",
    "param_grid = {\n",
    "    'C': [0.01, 0.1, 1, 10, 100],\n",
    "}\n",
    "\n",
    "if os.path.exists(saved_model_name):\n",
    "    loaded_model = joblib.load(saved_model_name)\n",
    "    model_lr_TUNED = loaded_model\n",
    "else:\n",
    "    grid_search = GridSearchCV(LogisticRegression(), param_grid, cv=5)\n",
    "    grid_search.fit(X_train, y_train)\n",
    "    model_lr_TUNED = grid_search.best_estimator_\n",
    "    joblib.dump(model_lr_TUNED, saved_model_name)\n",
    "\n",
    "y_pred = model_lr_TUNED.predict(X_test)\n",
    "\n",
    "train_score = model_lr_TUNED.score(X_train, y_train)\n",
    "test_score = model_lr_TUNED.score(X_test, y_test)\n",
    "\n",
    "\n",
    "model_scores['Logistic Regression TUNED'] = {\n",
    "    'Train Score': train_score,\n",
    "    'Test Score': test_score\n",
    "}\n",
    "\n",
    "conf_matrix = confusion_matrix(y_test, y_pred)\n",
    "\n",
    "print(f\"Train Score: {train_score}\")\n",
    "print(f\"Test Score: {test_score}\")\n",
    "print(\"Confusion Matrix:\")\n",
    "print(conf_matrix)\n",
    "print(classification_report(y_test, y_pred))"
   ]
  },
  {
   "cell_type": "code",
   "execution_count": null,
   "metadata": {},
   "outputs": [],
   "source": [
    "saved_model_name = 'model_HGBC.joblib'\n",
    "\n",
    "if os.path.exists(saved_model_name):\n",
    "    loaded_model = joblib.load(saved_model_name)\n",
    "    model_hgb = loaded_model\n",
    "\n",
    "else:\n",
    "    model_hgb = HistGradientBoostingClassifier()\n",
    "    model_hgb.fit(X_train, y_train)\n",
    "    joblib.dump(model_hgb, saved_model_name)\n",
    "\n",
    "\n",
    "y_pred = model_hgb.predict(X_test)\n",
    "\n",
    "train_score = model_hgb.score(X_train, y_train)\n",
    "test_score = model_hgb.score(X_test, y_test)\n",
    "\n",
    "model_scores['Hist Gradient Boosting'] = {\n",
    "    'Train Score': train_score,\n",
    "    'Test Score': test_score,\n",
    "}\n",
    "\n",
    "print(f\"Train Score: {train_score}\")\n",
    "print(f\"Test Score: {test_score}\")\n",
    "print(classification_report(y_test, y_pred))"
   ]
  },
  {
   "cell_type": "code",
   "execution_count": null,
   "metadata": {},
   "outputs": [],
   "source": [
    "saved_model_name = 'model_HGBC_TUNED.joblib'\n",
    "\n",
    "if os.path.exists(saved_model_name):\n",
    "    loaded_model = joblib.load(saved_model_name)\n",
    "    model_HGBC_TUNED = loaded_model\n",
    "else:\n",
    "    model_HGBC_TUNED = HistGradientBoostingClassifier()\n",
    "    param_grid = {\n",
    "        'max_iter': [100, 200,300],\n",
    "        'learning_rate': [0.01, 0.1, 0.2],\n",
    "        'max_depth': [3, 5, 7, 9, 21, 25],\n",
    "        'min_samples_leaf': [1, 5, 10, 15, 20]\n",
    "    }\n",
    "\n",
    "    grid_search = GridSearchCV(estimator=model_HGBC_TUNED, param_grid=param_grid, cv=5, n_jobs=-1)\n",
    "    grid_search.fit(X_train, y_train)\n",
    "    best_model_HGBC_TUNED = grid_search.best_estimator_\n",
    "    joblib.dump(best_model_HGBC_TUNED, saved_model_name)\n",
    "    print(f\"Best Parameters: {grid_search.best_params_}\")\n",
    "    model_HGBC_TUNED = best_model_HGBC_TUNED\n",
    "\n",
    "\n",
    "y_pred = model_HGBC_TUNED.predict(X_test)\n",
    "\n",
    "train_score = model_HGBC_TUNED.score(X_train, y_train)\n",
    "test_score = model_HGBC_TUNED.score(X_test, y_test)\n",
    "\n",
    "model_scores['Hist Gradient Boosting TUNED'] = {\n",
    "    'Train Score': train_score,\n",
    "    'Test Score': test_score,\n",
    "}\n",
    "\n",
    "print(f\"Train Score: {train_score}\")\n",
    "print(f\"Test Score: {test_score}\")\n",
    "\n",
    "print(classification_report(y_test, y_pred))"
   ]
  },
  {
   "cell_type": "code",
   "execution_count": 15,
   "metadata": {
    "colab": {
     "base_uri": "https://localhost:8080/",
     "height": 564
    },
    "id": "qQTZpvSCTVqG",
    "outputId": "15518315-b3e2-4eb4-d7ec-0ae85b2beddc"
   },
   "outputs": [
    {
     "name": "stdout",
     "output_type": "stream",
     "text": [
      "Train Score: 0.8935746966381539\n",
      "Test Score: 0.9053301511535402\n",
      "              precision    recall  f1-score   support\n",
      "\n",
      "           0       0.89      1.00      0.94       958\n",
      "           1       0.99      0.61      0.75       299\n",
      "\n",
      "    accuracy                           0.91      1257\n",
      "   macro avg       0.94      0.80      0.85      1257\n",
      "weighted avg       0.92      0.91      0.90      1257\n",
      "\n"
     ]
    }
   ],
   "source": [
    "saved_model_name = 'model_KNN.joblib'\n",
    "\n",
    "if os.path.exists(saved_model_name):\n",
    "    loaded_model = joblib.load(saved_model_name)\n",
    "    model_knn = loaded_model\n",
    "else:\n",
    "    model_knn = KNeighborsClassifier()\n",
    "    model_knn.fit(X_train, y_train)\n",
    "    joblib.dump(model_knn, saved_model_name)\n",
    "\n",
    "y_pred = model_knn.predict(X_test)\n",
    "\n",
    "train_score = model_knn.score(X_train, y_train)\n",
    "test_score = model_knn.score(X_test, y_test)\n",
    "\n",
    "model_scores['KNN'] = {\n",
    "    'Train Score': train_score,\n",
    "    'Test Score': test_score,\n",
    "}\n",
    "\n",
    "conf_matrix = confusion_matrix(y_test, y_pred)\n",
    "\n",
    "print(f\"Train Score: {train_score}\")\n",
    "print(f\"Test Score: {test_score}\")\n",
    "print(classification_report(y_test, y_pred))"
   ]
  },
  {
   "cell_type": "code",
   "execution_count": 17,
   "metadata": {},
   "outputs": [
    {
     "name": "stdout",
     "output_type": "stream",
     "text": [
      "Train Score: 0.8935746966381539\n",
      "Test Score: 0.9053301511535402\n",
      "              precision    recall  f1-score   support\n",
      "\n",
      "           0       0.89      1.00      0.94       958\n",
      "           1       0.99      0.61      0.75       299\n",
      "\n",
      "    accuracy                           0.91      1257\n",
      "   macro avg       0.94      0.80      0.85      1257\n",
      "weighted avg       0.92      0.91      0.90      1257\n",
      "\n",
      "[[957   1]\n",
      " [118 181]]\n"
     ]
    }
   ],
   "source": [
    "\n",
    "saved_model_name = 'model_KNN_TUNED.joblib'\n",
    "\n",
    "param_grid = {\n",
    "    'n_neighbors': [3, 5, 7, 9, 11]\n",
    "}\n",
    "\n",
    "if os.path.exists(saved_model_name):\n",
    "    loaded_model = joblib.load(saved_model_name)\n",
    "    model_knn_TUNED = loaded_model\n",
    "else:\n",
    "    grid_search = GridSearchCV(KNeighborsClassifier(), param_grid, cv=5)\n",
    "    grid_search.fit(X_train, y_train)\n",
    "    model_knn_TUNED = grid_search.best_estimator_\n",
    "    print(f\"Best Parameters: {grid_search.best_params_}\")\n",
    "    joblib.dump(model_knn_TUNED, saved_model_name)\n",
    "\n",
    "y_pred = model_knn_TUNED.predict(X_test)\n",
    "\n",
    "train_score = model_knn_TUNED.score(X_train, y_train)\n",
    "test_score = model_knn_TUNED.score(X_test, y_test)\n",
    "\n",
    "\n",
    "model_scores['KNN TUNED'] = {\n",
    "    'Train Score': train_score,\n",
    "    'Test Score': test_score,\n",
    "}\n",
    "\n",
    "conf_matrix = confusion_matrix(y_test, y_pred)\n",
    "\n",
    "print(f\"Train Score: {train_score}\")\n",
    "print(f\"Test Score: {test_score}\")\n",
    "\n",
    "print(classification_report(y_test, y_pred))\n",
    "print(conf_matrix)"
   ]
  },
  {
   "cell_type": "code",
   "execution_count": null,
   "metadata": {},
   "outputs": [],
   "source": [
    "saved_model_name = 'model_XGBoost.joblib'\n",
    "\n",
    "\n",
    "if os.path.exists(saved_model_name):\n",
    "    loaded_model = joblib.load(saved_model_name)\n",
    "    model_xgboost = loaded_model\n",
    "else:\n",
    "    model_xgboost = XGBClassifier()\n",
    "    model_xgboost.fit(X_train, y_train)\n",
    "    print(f\"Model Parameters: {model_xgboost.get_params()}\")\n",
    "    joblib.dump(model_xgboost, saved_model_name)\n",
    "\n",
    "y_pred = model_xgboost.predict(X_test)\n",
    "\n",
    "train_score = model_xgboost.score(X_train, y_train)\n",
    "test_score = model_xgboost.score(X_test, y_test)\n",
    "\n",
    "\n",
    "model_scores['XGBoost Classifier'] = {\n",
    "    'Train Score': train_score,\n",
    "    'Test Score': test_score,\n",
    "}\n",
    "\n",
    "print(f\"Train Score: {train_score}\")\n",
    "print(f\"Test Score: {test_score}\")\n",
    "\n",
    "print(classification_report(y_test, y_pred))"
   ]
  },
  {
   "cell_type": "code",
   "execution_count": null,
   "metadata": {},
   "outputs": [],
   "source": [
    "saved_model_name = 'model_XGBoost_TUNED.joblib'\n",
    "\n",
    "if os.path.exists(saved_model_name):\n",
    "    loaded_model = joblib.load(saved_model_name)\n",
    "    model_xgboost_TUNED = loaded_model\n",
    "else:\n",
    "    param_grid = {\n",
    "        'n_estimators': [100, 200],\n",
    "        'max_depth': [3, 5, 7],\n",
    "        'learning_rate': [0.01, 0.1, 0.2],\n",
    "        'subsample': [0.8, 1.0],\n",
    "        'colsample_bytree': [0.8, 1.0]\n",
    "    }\n",
    "    grid_search = GridSearchCV(XGBClassifier(), param_grid, cv=5, n_jobs=-1)\n",
    "    grid_search.fit(X_train, y_train)\n",
    "    model_xgboost_TUNED = grid_search.best_estimator_\n",
    "    print(f\"Model Parameters: {model_xgboost_TUNED.get_params()}\")\n",
    "    joblib.dump(model_xgboost_TUNED, saved_model_name)\n",
    "\n",
    "y_pred = model_xgboost_TUNED.predict(X_test)\n",
    "\n",
    "train_score = model_xgboost_TUNED.score(X_train, y_train)\n",
    "test_score = model_xgboost_TUNED.score(X_test, y_test)\n",
    "\n",
    "\n",
    "model_scores['XGBoost Classifier TUNED'] = {\n",
    "    'Train Score': train_score,\n",
    "    'Test Score': test_score,\n",
    "}\n",
    "\n",
    "print(f\"Train Score: {train_score}\")\n",
    "print(f\"Test Score: {test_score}\")\n",
    "\n",
    "print(classification_report(y_test, y_pred))"
   ]
  },
  {
   "cell_type": "code",
   "execution_count": 18,
   "metadata": {
    "colab": {
     "base_uri": "https://localhost:8080/",
     "height": 1000
    },
    "id": "TeiW2Ei4leBm",
    "outputId": "2fd30065-1ae0-4934-cef5-f81aad4454d2"
   },
   "outputs": [
    {
     "name": "stdout",
     "output_type": "stream",
     "text": [
      "Train Score: 0.9313705987666601\n",
      "Test Score: 0.9379474940334129\n",
      "Classification Report:\n",
      "              precision    recall  f1-score   support\n",
      "\n",
      "           0       0.93      1.00      0.96       958\n",
      "           1       1.00      0.74      0.85       299\n",
      "\n",
      "    accuracy                           0.94      1257\n",
      "   macro avg       0.96      0.87      0.91      1257\n",
      "weighted avg       0.94      0.94      0.93      1257\n",
      "\n",
      "Confusion Matrix:\n",
      "[[957   1]\n",
      " [ 77 222]]\n"
     ]
    }
   ],
   "source": [
    "saved_model_name = 'model_RandomForest.joblib'\n",
    "\n",
    "if os.path.exists(saved_model_name):\n",
    "    loaded_model = joblib.load(saved_model_name)\n",
    "    model_RF = loaded_model\n",
    "else:\n",
    "    model_RF = RandomForestClassifier(random_state=42)\n",
    "    model_RF.fit(X_train, y_train)\n",
    "    joblib.dump(model_RF, saved_model_name)\n",
    "\n",
    "y_pred = model_RF.predict(X_test)\n",
    "\n",
    "train_score = model_RF.score(X_train, y_train)\n",
    "test_score = model_RF.score(X_test, y_test)\n",
    "\n",
    "\n",
    "model_scores['Random Forest Classifier'] = {\n",
    "    'Train Score': train_score,\n",
    "    'Test Score': test_score\n",
    "}\n",
    "\n",
    "conf_matrix = confusion_matrix(y_test, y_pred)\n",
    "\n",
    "print(f\"Train Score: {train_score}\")\n",
    "print(f\"Test Score: {test_score}\")\n",
    "print(\"Classification Report:\")\n",
    "print(classification_report(y_test, y_pred))\n",
    "print(\"Confusion Matrix:\")\n",
    "print(conf_matrix)\n",
    "\n"
   ]
  },
  {
   "cell_type": "code",
   "execution_count": 19,
   "metadata": {},
   "outputs": [
    {
     "data": {
      "image/png": "[encoded data removed]",
      "text/plain": [
       "<Figure size 1000x600 with 1 Axes>"
      ]
     },
     "metadata": {},
     "output_type": "display_data"
    }
   ],
   "source": [
    "importances = model_RF.feature_importances_\n",
    "feature_importance = pd.DataFrame({\n",
    "    'Feature': X_train.columns,\n",
    "    'Importance': importances\n",
    "})\n",
    "\n",
    "feature_importance = feature_importance.sort_values(by='Importance', ascending=False)\n",
    "\n",
    "plt.figure(figsize=(10, 6))\n",
    "plt.barh(feature_importance['Feature'], feature_importance['Importance'])\n",
    "plt.xlabel('Importance')\n",
    "plt.title('Feature Importance (Random Forest)')\n",
    "plt.show()"
   ]
  },
  {
   "cell_type": "code",
   "execution_count": null,
   "metadata": {},
   "outputs": [],
   "source": [
    "saved_model_name = 'model_RandomForest_TUNED.joblib'\n",
    "\n",
    "if os.path.exists(saved_model_name):\n",
    "    loaded_model = joblib.load(saved_model_name)\n",
    "    model_RF_TUNED = loaded_model\n",
    "else:\n",
    "    param_grid = {\n",
    "        'n_estimators': [100, 200],\n",
    "        'max_depth': [None, 10, 20],\n",
    "        'min_samples_split': [2, 5],\n",
    "        'min_samples_leaf': [1, 2]\n",
    "    }\n",
    "    grid_search = GridSearchCV(RandomForestClassifier(random_state=42), param_grid, cv=5, n_jobs=-1)\n",
    "    grid_search.fit(X_train, y_train)\n",
    "    model_RF_TUNED = grid_search.best_estimator_\n",
    "    joblib.dump(model_RF_TUNED, saved_model_name)\n",
    "\n",
    "y_pred = model_RF_TUNED.predict(X_test)\n",
    "\n",
    "train_score = model_RF_TUNED.score(X_train, y_train)\n",
    "test_score = model_RF_TUNED.score(X_test, y_test)\n",
    "\n",
    "model_scores['Random Forest Classifier TUNED'] = {\n",
    "    'Train Score': train_score,\n",
    "    'Test Score': test_score\n",
    "}\n",
    "\n",
    "conf_matrix = confusion_matrix(y_test, y_pred)\n",
    "\n",
    "print(f\"Train Score: {train_score}\")\n",
    "print(f\"Test Score: {test_score}\")\n",
    "print(\"Classification Report:\")\n",
    "print(classification_report(y_test, y_pred))\n",
    "print(\"Confusion Matrix:\")\n",
    "print(conf_matrix)\n",
    "\n"
   ]
  },
  {
   "cell_type": "code",
   "execution_count": null,
   "metadata": {},
   "outputs": [],
   "source": [
    "importances = model_RF_TUNED.feature_importances_\n",
    "feature_importance = pd.DataFrame({\n",
    "    'Feature': X_train.columns,\n",
    "    'Importance': importances\n",
    "})\n",
    "\n",
    "feature_importance = feature_importance.sort_values(by='Importance', ascending=False)\n",
    "\n",
    "plt.figure(figsize=(10, 6))\n",
    "plt.barh(feature_importance['Feature'], feature_importance['Importance'])\n",
    "plt.xlabel('Importance')\n",
    "plt.title('Feature Importance (Random Forest)')\n",
    "plt.show()"
   ]
  },
  {
   "cell_type": "code",
   "execution_count": null,
   "metadata": {},
   "outputs": [],
   "source": [
    "model_KNN_D = KNN_D(dcalc = 'chebyshev')\n",
    "model_KNN_D.fit(X_train, y_train)\n",
    "\n",
    "\n",
    "y_train_pred = model_KNN_D.predict(X_train)\n",
    "y_test_pred = model_KNN_D.predict(X_test)\n",
    "\n",
    "\n",
    "train_score = accuracy_score(y_train, y_train_pred)\n",
    "test_score = accuracy_score(y_test, y_test_pred)\n",
    "\n",
    "\n",
    "model_scores['KNN_B'] = {\n",
    "    'Train Score': train_score,\n",
    "    'Test Score': test_score\n",
    "}\n",
    "\n",
    "print(f\"Train Score: {train_score}\")\n",
    "print(f\"Test Score: {test_score}\")\n",
    "print(\"Classification Report:\")\n",
    "print(classification_report(y_test, y_pred))"
   ]
  },
  {
   "cell_type": "code",
   "execution_count": null,
   "metadata": {
    "colab": {
     "base_uri": "https://localhost:8080/",
     "height": 582
    },
    "id": "yM-ecdgCQlhv",
    "outputId": "ccc13dce-8b41-45f2-bad2-9aa88f738d8c"
   },
   "outputs": [],
   "source": [
    "models = list(model_scores.keys())\n",
    "train_scores = [model_scores[model][\"Train Score\"] for model in models]\n",
    "test_scores = [model_scores[model][\"Test Score\"] for model in models]\n",
    "\n",
    "x = range(len(models))\n",
    "\n",
    "plt.figure(figsize=(10, 6))\n",
    "plt.bar(x, train_scores, width=0.4, label='Train Score', color='b', align='center')\n",
    "plt.bar([p + 0.4 for p in x], test_scores, width=0.4, label='Test Score', color='orange', align='center')\n",
    "\n",
    "plt.xlabel('Models')\n",
    "plt.ylabel('Scores')\n",
    "plt.title('Train and Test Scores of Different Models')\n",
    "plt.xticks([p + 0.2 for p in x], models , rotation =90)\n",
    "plt.ylim(0.9, 1)\n",
    "plt.legend()\n",
    "plt.show()\n"
   ]
  },
  {
   "attachments": {},
   "cell_type": "markdown",
   "metadata": {},
   "source": [
    "Find at employees at risk of leaving."
   ]
  },
  {
   "cell_type": "code",
   "execution_count": 21,
   "metadata": {},
   "outputs": [
    {
     "ename": "ValueError",
     "evalue": "Length of values (6284) does not match length of index (49753)",
     "output_type": "error",
     "traceback": [
      "\u001b[1;31m---------------------------------------------------------------------------\u001b[0m",
      "\u001b[1;31mValueError\u001b[0m                                Traceback (most recent call last)",
      "Cell \u001b[1;32mIn[21], line 17\u001b[0m\n\u001b[0;32m     14\u001b[0m     predicted_vals\u001b[38;5;241m.\u001b[39mextend(predictions)\n\u001b[0;32m     16\u001b[0m df_n_dummies \u001b[38;5;241m=\u001b[39m pd\u001b[38;5;241m.\u001b[39mget_dummies(df , columns\u001b[38;5;241m=\u001b[39m[\u001b[38;5;124m'\u001b[39m\u001b[38;5;124mSTATUS\u001b[39m\u001b[38;5;124m'\u001b[39m] , drop_first\u001b[38;5;241m=\u001b[39m\u001b[38;5;28;01mTrue\u001b[39;00m)\n\u001b[1;32m---> 17\u001b[0m \u001b[43mdf\u001b[49m\u001b[43m[\u001b[49m\u001b[38;5;124;43m'\u001b[39;49m\u001b[38;5;124;43mpred_STATUS_Beëindigd\u001b[39;49m\u001b[38;5;124;43m'\u001b[39;49m\u001b[43m]\u001b[49m \u001b[38;5;241m=\u001b[39m predicted_vals\n\u001b[0;32m     19\u001b[0m at_risk_employees \u001b[38;5;241m=\u001b[39m df_n_dummies[(df_n_dummies[\u001b[38;5;124m'\u001b[39m\u001b[38;5;124mpred_STATUS_Beëindigd\u001b[39m\u001b[38;5;124m'\u001b[39m] \u001b[38;5;241m==\u001b[39m \u001b[38;5;28;01mTrue\u001b[39;00m) \u001b[38;5;241m&\u001b[39m (df_n_dummies[\u001b[38;5;124m'\u001b[39m\u001b[38;5;124mSTATUS_Beëindigd\u001b[39m\u001b[38;5;124m'\u001b[39m] \u001b[38;5;241m==\u001b[39m \u001b[38;5;28;01mFalse\u001b[39;00m)]\n\u001b[0;32m     20\u001b[0m at_risk_employees\n",
      "File \u001b[1;32mc:\\Users\\Gamer\\AppData\\Local\\Programs\\Python\\Python313\\Lib\\site-packages\\pandas\\core\\frame.py:4311\u001b[0m, in \u001b[0;36mDataFrame.__setitem__\u001b[1;34m(self, key, value)\u001b[0m\n\u001b[0;32m   4308\u001b[0m     \u001b[38;5;28mself\u001b[39m\u001b[38;5;241m.\u001b[39m_setitem_array([key], value)\n\u001b[0;32m   4309\u001b[0m \u001b[38;5;28;01melse\u001b[39;00m:\n\u001b[0;32m   4310\u001b[0m     \u001b[38;5;66;03m# set column\u001b[39;00m\n\u001b[1;32m-> 4311\u001b[0m     \u001b[38;5;28;43mself\u001b[39;49m\u001b[38;5;241;43m.\u001b[39;49m\u001b[43m_set_item\u001b[49m\u001b[43m(\u001b[49m\u001b[43mkey\u001b[49m\u001b[43m,\u001b[49m\u001b[43m \u001b[49m\u001b[43mvalue\u001b[49m\u001b[43m)\u001b[49m\n",
      "File \u001b[1;32mc:\\Users\\Gamer\\AppData\\Local\\Programs\\Python\\Python313\\Lib\\site-packages\\pandas\\core\\frame.py:4524\u001b[0m, in \u001b[0;36mDataFrame._set_item\u001b[1;34m(self, key, value)\u001b[0m\n\u001b[0;32m   4514\u001b[0m \u001b[38;5;28;01mdef\u001b[39;00m \u001b[38;5;21m_set_item\u001b[39m(\u001b[38;5;28mself\u001b[39m, key, value) \u001b[38;5;241m-\u001b[39m\u001b[38;5;241m>\u001b[39m \u001b[38;5;28;01mNone\u001b[39;00m:\n\u001b[0;32m   4515\u001b[0m \u001b[38;5;250m    \u001b[39m\u001b[38;5;124;03m\"\"\"\u001b[39;00m\n\u001b[0;32m   4516\u001b[0m \u001b[38;5;124;03m    Add series to DataFrame in specified column.\u001b[39;00m\n\u001b[0;32m   4517\u001b[0m \n\u001b[1;32m   (...)\u001b[0m\n\u001b[0;32m   4522\u001b[0m \u001b[38;5;124;03m    ensure homogeneity.\u001b[39;00m\n\u001b[0;32m   4523\u001b[0m \u001b[38;5;124;03m    \"\"\"\u001b[39;00m\n\u001b[1;32m-> 4524\u001b[0m     value, refs \u001b[38;5;241m=\u001b[39m \u001b[38;5;28;43mself\u001b[39;49m\u001b[38;5;241;43m.\u001b[39;49m\u001b[43m_sanitize_column\u001b[49m\u001b[43m(\u001b[49m\u001b[43mvalue\u001b[49m\u001b[43m)\u001b[49m\n\u001b[0;32m   4526\u001b[0m     \u001b[38;5;28;01mif\u001b[39;00m (\n\u001b[0;32m   4527\u001b[0m         key \u001b[38;5;129;01min\u001b[39;00m \u001b[38;5;28mself\u001b[39m\u001b[38;5;241m.\u001b[39mcolumns\n\u001b[0;32m   4528\u001b[0m         \u001b[38;5;129;01mand\u001b[39;00m value\u001b[38;5;241m.\u001b[39mndim \u001b[38;5;241m==\u001b[39m \u001b[38;5;241m1\u001b[39m\n\u001b[0;32m   4529\u001b[0m         \u001b[38;5;129;01mand\u001b[39;00m \u001b[38;5;129;01mnot\u001b[39;00m \u001b[38;5;28misinstance\u001b[39m(value\u001b[38;5;241m.\u001b[39mdtype, ExtensionDtype)\n\u001b[0;32m   4530\u001b[0m     ):\n\u001b[0;32m   4531\u001b[0m         \u001b[38;5;66;03m# broadcast across multiple columns if necessary\u001b[39;00m\n\u001b[0;32m   4532\u001b[0m         \u001b[38;5;28;01mif\u001b[39;00m \u001b[38;5;129;01mnot\u001b[39;00m \u001b[38;5;28mself\u001b[39m\u001b[38;5;241m.\u001b[39mcolumns\u001b[38;5;241m.\u001b[39mis_unique \u001b[38;5;129;01mor\u001b[39;00m \u001b[38;5;28misinstance\u001b[39m(\u001b[38;5;28mself\u001b[39m\u001b[38;5;241m.\u001b[39mcolumns, MultiIndex):\n",
      "File \u001b[1;32mc:\\Users\\Gamer\\AppData\\Local\\Programs\\Python\\Python313\\Lib\\site-packages\\pandas\\core\\frame.py:5266\u001b[0m, in \u001b[0;36mDataFrame._sanitize_column\u001b[1;34m(self, value)\u001b[0m\n\u001b[0;32m   5263\u001b[0m     \u001b[38;5;28;01mreturn\u001b[39;00m _reindex_for_setitem(value, \u001b[38;5;28mself\u001b[39m\u001b[38;5;241m.\u001b[39mindex)\n\u001b[0;32m   5265\u001b[0m \u001b[38;5;28;01mif\u001b[39;00m is_list_like(value):\n\u001b[1;32m-> 5266\u001b[0m     \u001b[43mcom\u001b[49m\u001b[38;5;241;43m.\u001b[39;49m\u001b[43mrequire_length_match\u001b[49m\u001b[43m(\u001b[49m\u001b[43mvalue\u001b[49m\u001b[43m,\u001b[49m\u001b[43m \u001b[49m\u001b[38;5;28;43mself\u001b[39;49m\u001b[38;5;241;43m.\u001b[39;49m\u001b[43mindex\u001b[49m\u001b[43m)\u001b[49m\n\u001b[0;32m   5267\u001b[0m arr \u001b[38;5;241m=\u001b[39m sanitize_array(value, \u001b[38;5;28mself\u001b[39m\u001b[38;5;241m.\u001b[39mindex, copy\u001b[38;5;241m=\u001b[39m\u001b[38;5;28;01mTrue\u001b[39;00m, allow_2d\u001b[38;5;241m=\u001b[39m\u001b[38;5;28;01mTrue\u001b[39;00m)\n\u001b[0;32m   5268\u001b[0m \u001b[38;5;28;01mif\u001b[39;00m (\n\u001b[0;32m   5269\u001b[0m     \u001b[38;5;28misinstance\u001b[39m(value, Index)\n\u001b[0;32m   5270\u001b[0m     \u001b[38;5;129;01mand\u001b[39;00m value\u001b[38;5;241m.\u001b[39mdtype \u001b[38;5;241m==\u001b[39m \u001b[38;5;124m\"\u001b[39m\u001b[38;5;124mobject\u001b[39m\u001b[38;5;124m\"\u001b[39m\n\u001b[1;32m   (...)\u001b[0m\n\u001b[0;32m   5273\u001b[0m     \u001b[38;5;66;03m# TODO: Remove kludge in sanitize_array for string mode when enforcing\u001b[39;00m\n\u001b[0;32m   5274\u001b[0m     \u001b[38;5;66;03m# this deprecation\u001b[39;00m\n",
      "File \u001b[1;32mc:\\Users\\Gamer\\AppData\\Local\\Programs\\Python\\Python313\\Lib\\site-packages\\pandas\\core\\common.py:573\u001b[0m, in \u001b[0;36mrequire_length_match\u001b[1;34m(data, index)\u001b[0m\n\u001b[0;32m    569\u001b[0m \u001b[38;5;250m\u001b[39m\u001b[38;5;124;03m\"\"\"\u001b[39;00m\n\u001b[0;32m    570\u001b[0m \u001b[38;5;124;03mCheck the length of data matches the length of the index.\u001b[39;00m\n\u001b[0;32m    571\u001b[0m \u001b[38;5;124;03m\"\"\"\u001b[39;00m\n\u001b[0;32m    572\u001b[0m \u001b[38;5;28;01mif\u001b[39;00m \u001b[38;5;28mlen\u001b[39m(data) \u001b[38;5;241m!=\u001b[39m \u001b[38;5;28mlen\u001b[39m(index):\n\u001b[1;32m--> 573\u001b[0m     \u001b[38;5;28;01mraise\u001b[39;00m \u001b[38;5;167;01mValueError\u001b[39;00m(\n\u001b[0;32m    574\u001b[0m         \u001b[38;5;124m\"\u001b[39m\u001b[38;5;124mLength of values \u001b[39m\u001b[38;5;124m\"\u001b[39m\n\u001b[0;32m    575\u001b[0m         \u001b[38;5;124mf\u001b[39m\u001b[38;5;124m\"\u001b[39m\u001b[38;5;124m(\u001b[39m\u001b[38;5;132;01m{\u001b[39;00m\u001b[38;5;28mlen\u001b[39m(data)\u001b[38;5;132;01m}\u001b[39;00m\u001b[38;5;124m) \u001b[39m\u001b[38;5;124m\"\u001b[39m\n\u001b[0;32m    576\u001b[0m         \u001b[38;5;124m\"\u001b[39m\u001b[38;5;124mdoes not match length of index \u001b[39m\u001b[38;5;124m\"\u001b[39m\n\u001b[0;32m    577\u001b[0m         \u001b[38;5;124mf\u001b[39m\u001b[38;5;124m\"\u001b[39m\u001b[38;5;124m(\u001b[39m\u001b[38;5;132;01m{\u001b[39;00m\u001b[38;5;28mlen\u001b[39m(index)\u001b[38;5;132;01m}\u001b[39;00m\u001b[38;5;124m)\u001b[39m\u001b[38;5;124m\"\u001b[39m\n\u001b[0;32m    578\u001b[0m     )\n",
      "\u001b[1;31mValueError\u001b[0m: Length of values (6284) does not match length of index (49753)"
     ]
    }
   ],
   "source": [
    "X = df_with_dummies.drop('STATUS_Beëindigd', axis=1)\n",
    "y = df_with_dummies['STATUS_Beëindigd']\n",
    "\n",
    "model = RandomForestClassifier()\n",
    "kf = KFold(n_splits=10)\n",
    "\n",
    "predicted_vals = []\n",
    "\n",
    "for i, j in kf.split(X):\n",
    "    X_train, X_test = X.iloc[i], X.iloc[j]\n",
    "    y_train, y_test = y.iloc[i], y.iloc[j]\n",
    "    model.fit(X_train, y_train)\n",
    "    predictions = model.predict(X_test)\n",
    "    predicted_vals.extend(predictions)\n",
    "\n",
    "df_n_dummies = pd.get_dummies(df , columns=['STATUS'] , drop_first=True)\n",
    "df['pred_STATUS_Beëindigd'] = predicted_vals\n",
    "\n",
    "at_risk_employees = df_n_dummies[(df_n_dummies['pred_STATUS_Beëindigd'] == True) & (df_n_dummies['STATUS_Beëindigd'] == False)]\n",
    "at_risk_employees\n"
   ]
  },
  {
   "cell_type": "code",
   "execution_count": null,
   "metadata": {},
   "outputs": [],
   "source": []
  }
 ],
 "metadata": {
  "colab": {
   "provenance": []
  },
  "kernelspec": {
   "display_name": "Python 3",
   "language": "python",
   "name": "python3"
  },
  "language_info": {
   "codemirror_mode": {
    "name": "ipython",
    "version": 3
   },
   "file_extension": ".py",
   "mimetype": "text/x-python",
   "name": "python",
   "nbconvert_exporter": "python",
   "pygments_lexer": "ipython3",
   "version": "3.13.0"
  }
 },
 "nbformat": 4,
 "nbformat_minor": 1
}
